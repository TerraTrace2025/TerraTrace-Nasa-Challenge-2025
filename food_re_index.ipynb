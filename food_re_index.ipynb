{
  "cells": [
    {
      "cell_type": "code",
      "source": [
        "# !pip install geocoder\n",
        "# !pip install meteostat\n",
        "# !pip install geopandas\n",
        "# !pip install osmnx"
      ],
      "metadata": {
        "id": "mKJYawx3zPQN"
      },
      "execution_count": null,
      "outputs": []
    },
    {
      "cell_type": "code",
      "source": [
        "import os\n",
        "import requests\n",
        "from datetime import datetime, timedelta, date\n",
        "import pandas as pd\n",
        "from meteostat import Point, Daily\n",
        "from google.colab import files\n",
        "import geocoder\n",
        "from geopy.geocoders import Nominatim\n",
        "from tqdm import tqdm\n",
        "import geopandas as gpd\n",
        "import osmnx as ox\n",
        "from shapely.geometry import Point"
      ],
      "metadata": {
        "id": "BrqH4HEPbUrj"
      },
      "execution_count": null,
      "outputs": []
    },
    {
      "cell_type": "markdown",
      "source": [
        "***Input*** ***1: Crop Information: Names & Locations***"
      ],
      "metadata": {
        "id": "y7lIZ_l5dSBL"
      }
    },
    {
      "cell_type": "code",
      "source": [
        "df = pd.read_excel(\"harvest_locations.xlsx\", skiprows=1)\n",
        "\n",
        "# state_location = df[\"Kt.\"]\n",
        "# origin_location = df[\"Standort\"]\n",
        "crop_names = df.columns[7:].tolist()\n",
        "\n",
        "mapping = {\n",
        "    'Brotweizen': 'Wheat',\n",
        "    'Umstellmahlweizen': 'Wheat',\n",
        "    'Futterweizen': 'Wheat',\n",
        "    'Futtergerste': 'Barley',\n",
        "    'Körnermais': 'Corn',\n",
        "    'Sojabohnen Futter': 'Soybean',\n",
        "    'Sojabohnen \"Tofu\"': 'Soybean',\n",
        "    'Raps Kl.': 'Rapeseed',\n",
        "    'Raps HOLL': 'Rapeseed',\n",
        "    'Sonnenblumen lino': 'Sunflowerseed',\n",
        "    'Sonnenblumen HO': 'Sunflowerseed'\n",
        "}\n",
        "\n",
        "\n",
        "swiss_crop = [crop for crop in crop_names if crop in mapping]\n",
        "\n",
        "locations_dict = {}\n",
        "\n",
        "for crop in swiss_crop:\n",
        "    category = mapping[crop]  # 找到大类\n",
        "    crop_locations = df.loc[df[crop] == \"x\", \"Standort\"].tolist()\n",
        "\n",
        "    if category not in locations_dict:\n",
        "        locations_dict[category] = crop_locations\n",
        "    else:\n",
        "        locations_dict[category] = list(set(locations_dict[category] + crop_locations))\n",
        "\n",
        "\n",
        "for k, v in locations_dict.items():\n",
        "    print(f\"{k}: {v}\")\n",
        "    print(f\"{k}: {len(v)} locations\")\n",
        "\n"
      ],
      "metadata": {
        "id": "aLZL5v0vcvpU",
        "colab": {
          "base_uri": "https://localhost:8080/"
        },
        "outputId": "0250a4b0-8059-467d-d2f2-62b95bdf1d22"
      },
      "execution_count": null,
      "outputs": [
        {
          "output_type": "stream",
          "name": "stdout",
          "text": [
            "Wheat: ['1254 Jussy', '4573 Lohn-Ammannsegg', '7302 Landquart', '1784 Courtepin', '2800 Delémont', '1072 Forel VD', '3254 Messen', '2900 Porrentruy', '8308 Illnau', '1462 Yvonand', '1868 Collombey-le-', '5742 Kölliken', '4950 Huttwil', '4460 Gelterkinden', '1580 Avenches', '8194 Hüntwangen', '1350 Orbe', '3054 Schüpfen', '3076 Worb', '3114 Wichtrach', '8155 Niederhasli', '3423 Ersigen', '8460 Marthalen', '3292 Busswil b. Büren', '1487 Cugy', '8903 Birmensdorf', '1610 Oron-la-Ville', '3661 Uetendorf', '4800 Zofingen', '3360 Herzogenbuchsee', '4242 Laufen', '9494 Schaan (FL)', '1242 Satigny', '3210 Kerzers', '3415 Hasle-Rüegsau', '2733 Pontenet', '8162 Steinmaur', '2053 Cernier', '8932 Mettmenstetten', '4538 Oberbipp', '5610 Wohlen', '3186 Düdingen', '8207 Schaffhausen', '2942 Alle', '3421 Lyssach', '6210 Sursee', '1038 Bercher', '4917 Melchnau', '8560 Märstetten', '3177 Laupen', '5074 Eiken', '3940 Steg', '1305 Penthalaz']\n",
            "Wheat: 53 locations\n",
            "Barley: ['5742 Kölliken', '5074 Eiken', '5610 Wohlen', '4800 Zofingen', '3054 Schüpfen', '3415 Hasle-Rüegsau', '3076 Worb', '3114 Wichtrach', '3421 Lyssach', '4538 Oberbipp', '4917 Melchnau', '4950 Huttwil', '3177 Laupen', '3423 Ersigen', '3292 Busswil b. Büren', '3360 Herzogenbuchsee', '3661 Uetendorf', '2733 Pontenet', '4242 Laufen', '4460 Gelterkinden', '9494 Schaan (FL)', '3210 Kerzers', '3186 Düdingen', '1784 Courtepin', '1254 Jussy', '1242 Satigny', '7302 Landquart', '2800 Delémont', '2900 Porrentruy', '6210 Sursee', '2053 Cernier', '8207 Schaffhausen', '3254 Messen', '4573 Lohn-Ammannsegg', '8560 Märstetten', '1038 Bercher', '1350 Orbe', '1610 Oron-la-Ville', '1305 Penthalaz', '1462 Yvonand', '1487 Cugy', '1072 Forel VD', '1580 Avenches', '8162 Steinmaur', '8194 Hüntwangen', '8308 Illnau', '8460 Marthalen', '8903 Birmensdorf', '8932 Mettmenstetten']\n",
            "Barley: 49 locations\n",
            "Corn: ['5742 Kölliken', '5074 Eiken', '5610 Wohlen', '3076 Worb', '3315 Bätterkinden', '4538 Oberbipp', '4917 Melchnau', '4950 Huttwil', '3177 Laupen', '3423 Ersigen', '3292 Busswil b. Büren', '3360 Herzogenbuchsee', '4242 Laufen', '4460 Gelterkinden', '9494 Schaan (FL)', '3210 Kerzers', '3186 Düdingen', '1784 Courtepin', '1254 Jussy', '1242 Satigny', '7302 Landquart', '2900 Porrentruy', '2942 Alle', '6210 Sursee', '8207 Schaffhausen', '3254 Messen', '8560 Märstetten', '1038 Bercher', '1350 Orbe', '1610 Oron-la-Ville', '1305 Penthalaz', '1462 Yvonand', '1487 Cugy', '1580 Avenches', '1868 Collombey-le-', '3940 Steg', '8155 Niederhasli', '8162 Steinmaur', '8194 Hüntwangen', '8308 Illnau', '8460 Marthalen', '8903 Birmensdorf', '8932 Mettmenstetten']\n",
            "Corn: 43 locations\n",
            "Soybean: ['1254 Jussy', '4573 Lohn-Ammannsegg', '1784 Courtepin', '7302 Landquart', '3254 Messen', '2900 Porrentruy', '8308 Illnau', '1462 Yvonand', '4950 Huttwil', '1868 Collombey-le-', '4460 Gelterkinden', '1580 Avenches', '8194 Hüntwangen', '1350 Orbe', '3076 Worb', '8155 Niederhasli', '8460 Marthalen', '3292 Busswil b. Büren', '1487 Cugy', '8903 Birmensdorf', '3661 Uetendorf', '4800 Zofingen', '1242 Satigny', '3210 Kerzers', '3415 Hasle-Rüegsau', '4538 Oberbipp', '5610 Wohlen', '8207 Schaffhausen', '6210 Sursee', '1038 Bercher', '4917 Melchnau', '8560 Märstetten', '5074 Eiken', '1305 Penthalaz']\n",
            "Soybean: 34 locations\n",
            "Rapeseed: ['1784 Courtepin', '2800 Delémont', '2900 Porrentruy', '4950 Huttwil', '1868 Collombey-le-', '4460 Gelterkinden', '1580 Avenches', '8194 Hüntwangen', '1350 Orbe', '3076 Worb', '8155 Niederhasli', '8460 Marthalen', '3315 Bätterkinden', '3360 Herzogenbuchsee', '9494 Schaan (FL)', '4242 Laufen', '3210 Kerzers', '2053 Cernier', '5610 Wohlen', '4538 Oberbipp', '1038 Bercher', '4917 Melchnau', '8560 Märstetten', '3177 Laupen', '1305 Penthalaz']\n",
            "Rapeseed: 25 locations\n",
            "Sunflowerseed: ['1254 Jussy', '3254 Messen', '2900 Porrentruy', '4460 Gelterkinden', '8194 Hüntwangen', '3076 Worb', '8155 Niederhasli', '8460 Marthalen', '3315 Bätterkinden', '1242 Satigny', '4242 Laufen', '3210 Kerzers', '4538 Oberbipp', '5610 Wohlen', '8207 Schaffhausen', '1038 Bercher', '4917 Melchnau', '8560 Märstetten', '3177 Laupen', '5074 Eiken', '3940 Steg', '1305 Penthalaz']\n",
            "Sunflowerseed: 22 locations\n"
          ]
        }
      ]
    },
    {
      "cell_type": "code",
      "source": [
        "geolocator = Nominatim(user_agent=\"geoapi\", timeout=10)\n",
        "\n",
        "cache = {}\n",
        "\n",
        "def clean_location(address):\n",
        "    address = address.replace(\"b.\", \"bei\")\n",
        "    if \"(FL)\" in address:\n",
        "        address = address.replace(\"(FL)\", \"\").strip()\n",
        "        country = \"Liechtenstein\"\n",
        "    else:\n",
        "        country = \"Switzerland\"\n",
        "    return address, country\n",
        "\n",
        "def get_lat_lon_cached(address):\n",
        "    if address in cache:\n",
        "        return cache[address]\n",
        "\n",
        "    try:\n",
        "        clean_addr, country = clean_location(address)\n",
        "        location = geolocator.geocode(f\"{clean_addr}, {country}\")\n",
        "        if location:\n",
        "            result = (location.latitude, location.longitude)\n",
        "        else:\n",
        "            result = (None, None)\n",
        "    except:\n",
        "        result = (None, None)\n",
        "\n",
        "    manual_fix = {\n",
        "        \"3292 Busswil bei Büren\": (47.133, 7.246),\n",
        "        \"9494 Schaan\": (47.166, 9.516)\n",
        "    }\n",
        "    if result == (None, None) and clean_addr in manual_fix:\n",
        "        result = manual_fix[clean_addr]\n",
        "\n",
        "    cache[address] = result\n",
        "    return result\n",
        "\n",
        "category_coords = {}\n",
        "for category, locations in locations_dict.items():\n",
        "    print(f\"Processing {category}...\")\n",
        "    coords_list = []\n",
        "    for loc in tqdm(locations):\n",
        "        lat, lon = get_lat_lon_cached(loc)\n",
        "        coords_list.append([loc, lat, lon])\n",
        "    category_coords[category] = pd.DataFrame(coords_list, columns=[\"Standort\", \"Latitude\", \"Longitude\"])\n",
        "\n",
        "wheat_loc = category_coords[\"Wheat\"]\n",
        "barley_loc = category_coords[\"Barley\"]\n",
        "corn_loc = category_coords[\"Corn\"]\n",
        "soy_loc = category_coords[\"Soybean\"]\n",
        "rap_loc = category_coords[\"Rapeseed\"]\n",
        "sun_loc = category_coords[\"Sunflowerseed\"]"
      ],
      "metadata": {
        "colab": {
          "base_uri": "https://localhost:8080/"
        },
        "id": "rBzOmh6Lzu2P",
        "outputId": "3af6ef65-52e3-4f68-9453-114b53393f32"
      },
      "execution_count": null,
      "outputs": [
        {
          "output_type": "stream",
          "name": "stdout",
          "text": [
            "Processing Wheat...\n"
          ]
        },
        {
          "output_type": "stream",
          "name": "stderr",
          "text": [
            "100%|██████████| 53/53 [00:54<00:00,  1.02s/it]\n"
          ]
        },
        {
          "output_type": "stream",
          "name": "stdout",
          "text": [
            "Processing Barley...\n"
          ]
        },
        {
          "output_type": "stream",
          "name": "stderr",
          "text": [
            "100%|██████████| 49/49 [00:00<00:00, 294021.31it/s]\n"
          ]
        },
        {
          "output_type": "stream",
          "name": "stdout",
          "text": [
            "Processing Corn...\n"
          ]
        },
        {
          "output_type": "stream",
          "name": "stderr",
          "text": [
            "100%|██████████| 43/43 [00:01<00:00, 41.26it/s]\n"
          ]
        },
        {
          "output_type": "stream",
          "name": "stdout",
          "text": [
            "Processing Soybean...\n"
          ]
        },
        {
          "output_type": "stream",
          "name": "stderr",
          "text": [
            "100%|██████████| 34/34 [00:00<00:00, 187147.42it/s]\n"
          ]
        },
        {
          "output_type": "stream",
          "name": "stdout",
          "text": [
            "Processing Rapeseed...\n"
          ]
        },
        {
          "output_type": "stream",
          "name": "stderr",
          "text": [
            "100%|██████████| 25/25 [00:00<00:00, 193107.92it/s]\n"
          ]
        },
        {
          "output_type": "stream",
          "name": "stdout",
          "text": [
            "Processing Sunflowerseed...\n"
          ]
        },
        {
          "output_type": "stream",
          "name": "stderr",
          "text": [
            "100%|██████████| 22/22 [00:00<00:00, 201473.12it/s]\n"
          ]
        }
      ]
    },
    {
      "cell_type": "code",
      "source": [
        "print(wheat_loc)\n",
        "for i in wheat_loc:\n",
        "  print(i)\n",
        "  print(type(i))"
      ],
      "metadata": {
        "colab": {
          "base_uri": "https://localhost:8080/"
        },
        "id": "-vq-LOprV0N_",
        "outputId": "ee1d2c81-65e6-4fdc-a158-952b08cf9be1"
      },
      "execution_count": null,
      "outputs": [
        {
          "output_type": "stream",
          "name": "stdout",
          "text": [
            "                 Standort   Latitude  Longitude\n",
            "0              1254 Jussy  46.232044   6.272693\n",
            "1    4573 Lohn-Ammannsegg  47.170713   7.528663\n",
            "2          7302 Landquart  46.962238   9.563587\n",
            "3          1784 Courtepin  46.865568   7.122968\n",
            "4           2800 Delémont  47.364306   7.345486\n",
            "5           1072 Forel VD  46.540140   6.769301\n",
            "6             3254 Messen  47.099072   7.435817\n",
            "7         2900 Porrentruy  47.382472   7.098541\n",
            "8             8308 Illnau  47.409475   8.723691\n",
            "9            1462 Yvonand  46.797683   6.740887\n",
            "10     1868 Collombey-le-  46.279782   6.948920\n",
            "11          5742 Kölliken  47.334149   8.021650\n",
            "12           4950 Huttwil  47.112213   7.849174\n",
            "13      4460 Gelterkinden  47.464226   7.855537\n",
            "14          1580 Avenches  46.880078   7.040362\n",
            "15        8194 Hüntwangen  47.594975   8.493507\n",
            "16              1350 Orbe  46.724953   6.532812\n",
            "17          3054 Schüpfen  47.039854   7.375502\n",
            "18              3076 Worb  46.930236   7.566273\n",
            "19         3114 Wichtrach  46.844390   7.574317\n",
            "20       8155 Niederhasli  47.479142   8.487264\n",
            "21           3423 Ersigen  47.093969   7.600372\n",
            "22         8460 Marthalen  47.627767   8.651399\n",
            "23  3292 Busswil b. Büren  47.099363   7.322140\n",
            "24              1487 Cugy  46.815539   6.891026\n",
            "25       8903 Birmensdorf  47.355432   8.444457\n",
            "26     1610 Oron-la-Ville  46.569402   6.821719\n",
            "27         3661 Uetendorf  46.774061   7.579628\n",
            "28          4800 Zofingen  47.286283   7.948603\n",
            "29   3360 Herzogenbuchsee  47.189417   7.706329\n",
            "30            4242 Laufen  47.419952   7.500674\n",
            "31       9494 Schaan (FL)  47.166793   9.511289\n",
            "32           1242 Satigny  46.213870   6.039976\n",
            "33           3210 Kerzers  46.972903   7.192812\n",
            "34     3415 Hasle-Rüegsau  47.016090   7.656543\n",
            "35          2733 Pontenet  47.243867   7.254448\n",
            "36         8162 Steinmaur  47.494413   8.448227\n",
            "37           2053 Cernier  47.059812   6.901408\n",
            "38    8932 Mettmenstetten  47.246210   8.465370\n",
            "39          4538 Oberbipp  47.259886   7.662658\n",
            "40            5610 Wohlen  47.350194   8.279049\n",
            "41          3186 Düdingen  46.849259   7.187919\n",
            "42      8207 Schaffhausen  47.723610   8.660955\n",
            "43              2942 Alle  47.425866   7.129282\n",
            "44           3421 Lyssach  47.066115   7.581815\n",
            "45            6210 Sursee  47.171675   8.106723\n",
            "46           1038 Bercher  46.691383   6.708446\n",
            "47          4917 Melchnau  47.181497   7.848776\n",
            "48        8560 Märstetten  47.587764   9.065524\n",
            "49            3177 Laupen  46.906378   7.240015\n",
            "50             5074 Eiken  47.534331   7.987837\n",
            "51              3940 Steg  46.316545   7.750670\n",
            "52         1305 Penthalaz  46.608494   6.524783\n",
            "Standort\n",
            "<class 'str'>\n",
            "Latitude\n",
            "<class 'str'>\n",
            "Longitude\n",
            "<class 'str'>\n"
          ]
        }
      ]
    },
    {
      "cell_type": "markdown",
      "source": [
        "***Input 2: Climate Data***"
      ],
      "metadata": {
        "id": "Xv0GKbwXdhCP"
      }
    },
    {
      "cell_type": "markdown",
      "source": [
        "* Location"
      ],
      "metadata": {
        "id": "nKiXYMntlRMq"
      }
    },
    {
      "cell_type": "code",
      "source": [
        "latitude = 47.3341488\n",
        "longitude = 8.0216498"
      ],
      "metadata": {
        "id": "1pZ0Z7BokyHq"
      },
      "execution_count": null,
      "outputs": []
    },
    {
      "cell_type": "markdown",
      "source": [
        "* Historical and future weather forecast"
      ],
      "metadata": {
        "id": "jmTaC68U2pfz"
      }
    },
    {
      "cell_type": "code",
      "source": [
        "def get_historical_weather(start_date_str, end_date_str):\n",
        "    \"\"\"\n",
        "    Fetch historical daily weather (ERA5).\n",
        "    ERA5 typically has ~5 days delay, so yesterday is not available.\n",
        "    \"\"\"\n",
        "    ERA5_URL = \"https://archive-api.open-meteo.com/v1/era5\"\n",
        "\n",
        "    # Adjust end_date if too recent\n",
        "    today = date.today()\n",
        "    max_available = today - timedelta(days=5)\n",
        "    end_date = min(datetime.strptime(end_date_str, \"%Y-%m-%d\").date(), max_available)\n",
        "    start_date = datetime.strptime(start_date_str, \"%Y-%m-%d\").date()\n",
        "\n",
        "    if start_date > end_date:\n",
        "        raise ValueError(\"Start date is after available end date.\")\n",
        "\n",
        "    daily_vars = \",\".join([\n",
        "        \"temperature_2m_max\",\"temperature_2m_min\",\"precipitation_sum\",\n",
        "        \"windspeed_10m_max\",\"windgusts_10m_max\",\"shortwave_radiation_sum\",\n",
        "        \"snowfall_sum\"\n",
        "    ])\n",
        "\n",
        "    params = {\n",
        "        \"latitude\": latitude,\n",
        "        \"longitude\": longitude,\n",
        "        \"start_date\": start_date.isoformat(),\n",
        "        \"end_date\": end_date.isoformat(),\n",
        "        \"daily\": daily_vars,\n",
        "        \"timezone\": \"Europe/Zurich\"\n",
        "    }\n",
        "    resp = requests.get(ERA5_URL, params=params)\n",
        "    if resp.status_code == 200:\n",
        "        df = pd.DataFrame(resp.json()[\"daily\"])\n",
        "        # Simplified weathercode\n",
        "        df[\"weathercode\"] = df.apply(lambda row:\n",
        "                                     \"snow\" if row.get(\"snowfall_sum\",0)>0 else\n",
        "                                     \"rain\" if row[\"precipitation_sum\"]>5 else\n",
        "                                     \"showers/windy\" if row[\"precipitation_sum\"]>0 and row[\"windspeed_10m_max\"]>10 else\n",
        "                                     \"sunny\" if row[\"shortwave_radiation_sum\"]>15000 else \"cloudy\",\n",
        "                                     axis=1)\n",
        "        return df\n",
        "    else:\n",
        "        print(\"Historical request failed:\", resp.status_code)\n",
        "        return None\n",
        "\n",
        "def get_forecast_weather(n_days):\n",
        "    \"\"\"\n",
        "    Fetch forecast daily weather for the next n_days.\n",
        "    Converts official weathercode to simplified types like historical data.\n",
        "    \"\"\"\n",
        "    FORECAST_URL = \"https://api.open-meteo.com/v1/forecast\"\n",
        "    start_date = date.today()\n",
        "    end_date = start_date + timedelta(days=n_days-1)\n",
        "\n",
        "    daily_vars = [\n",
        "        \"temperature_2m_max\",\"temperature_2m_min\",\n",
        "        \"precipitation_sum\",\"windspeed_10m_max\",\n",
        "        \"weathercode\",\"snowfall_sum\"\n",
        "    ]\n",
        "\n",
        "    params = {\n",
        "        \"latitude\": latitude,\n",
        "        \"longitude\": longitude,\n",
        "        \"daily\": \",\".join(daily_vars),\n",
        "        \"start_date\": start_date.isoformat(),\n",
        "        \"end_date\": end_date.isoformat(),\n",
        "        \"timezone\": \"Europe/Zurich\"\n",
        "    }\n",
        "    resp = requests.get(FORECAST_URL, params=params)\n",
        "    if resp.status_code == 200:\n",
        "        df = pd.DataFrame(resp.json()[\"daily\"])\n",
        "\n",
        "        # map official weathercode to simplified types\n",
        "        def code_to_simple(wc, precip, wind, snow):\n",
        "            if snow > 0:\n",
        "                return \"snow\"\n",
        "            elif precip > 5:\n",
        "                return \"rain\"\n",
        "            elif precip > 0 and wind > 10:\n",
        "                return \"showers/windy\"\n",
        "            elif wc in [0,1,2]:  # clear/sunny codes\n",
        "                return \"sunny\"\n",
        "            else:\n",
        "                return \"cloudy\"\n",
        "\n",
        "        df[\"weathercode\"] = df.apply(lambda row: code_to_simple(\n",
        "            row[\"weathercode\"], row[\"precipitation_sum\"], row[\"windspeed_10m_max\"], row.get(\"snowfall_sum\",0)\n",
        "        ), axis=1)\n",
        "        return df\n",
        "    else:\n",
        "        print(\"Forecast request failed:\", resp.status_code)\n",
        "        return None\n"
      ],
      "metadata": {
        "id": "5lX1dXKErUu2"
      },
      "execution_count": null,
      "outputs": []
    },
    {
      "cell_type": "code",
      "source": [
        "print(\"=== Historical Weather ===\")\n",
        "try:\n",
        "    hist_df = get_historical_weather(\"2025-09-15\", \"2025-09-28\")\n",
        "    if hist_df is not None:\n",
        "        print(hist_df)\n",
        "except Exception as e:\n",
        "    print(\"Historical weather fetch error:\", e)\n",
        "\n",
        "# ===============================\n",
        "# Test forecast weather\n",
        "# ===============================\n",
        "print(\"\\n=== Forecast Weather ===\")\n",
        "try:\n",
        "    fc_df = get_forecast_weather(5)  # next 5 days\n",
        "    if fc_df is not None:\n",
        "        print(fc_df)\n",
        "except Exception as e:\n",
        "    print(\"Forecast weather fetch error:\", e)"
      ],
      "metadata": {
        "colab": {
          "base_uri": "https://localhost:8080/"
        },
        "id": "WvRwjwkUrVlN",
        "outputId": "5c9328bc-8001-46bf-f223-b50c3ac3205e"
      },
      "execution_count": null,
      "outputs": [
        {
          "output_type": "stream",
          "name": "stdout",
          "text": [
            "=== Historical Weather ===\n",
            "          time  temperature_2m_max  temperature_2m_min  precipitation_sum  \\\n",
            "0   2025-09-15                23.9                16.1               22.2   \n",
            "1   2025-09-16                18.2                11.7                0.0   \n",
            "2   2025-09-17                19.7                 8.3                0.0   \n",
            "3   2025-09-18                24.5                 9.9                0.0   \n",
            "4   2025-09-19                26.2                 8.4                0.0   \n",
            "5   2025-09-20                27.7                13.3                0.0   \n",
            "6   2025-09-21                22.5                15.6               28.9   \n",
            "7   2025-09-22                15.1                11.5               30.2   \n",
            "8   2025-09-23                12.9                 9.8                2.5   \n",
            "9   2025-09-24                13.1                 9.8                5.4   \n",
            "10  2025-09-25                13.8                 8.0                1.1   \n",
            "11  2025-09-26                13.6                 7.5                5.0   \n",
            "\n",
            "    windspeed_10m_max  windgusts_10m_max  shortwave_radiation_sum  \\\n",
            "0                24.4               55.1                    17.25   \n",
            "1                18.4               42.5                    15.79   \n",
            "2                 6.6               15.5                    15.06   \n",
            "3                 8.3               16.2                    18.15   \n",
            "4                 4.9               12.2                    17.43   \n",
            "5                 9.4               23.0                    17.09   \n",
            "6                15.0               31.0                    10.70   \n",
            "7                14.4               31.7                     4.07   \n",
            "8                13.9               33.8                     3.48   \n",
            "9                12.2               28.4                     4.96   \n",
            "10                9.4               25.2                     9.36   \n",
            "11                7.4               20.2                     6.32   \n",
            "\n",
            "    snowfall_sum    weathercode  \n",
            "0            0.0           rain  \n",
            "1            0.0         cloudy  \n",
            "2            0.0         cloudy  \n",
            "3            0.0         cloudy  \n",
            "4            0.0         cloudy  \n",
            "5            0.0         cloudy  \n",
            "6            0.0           rain  \n",
            "7            0.0           rain  \n",
            "8            0.0  showers/windy  \n",
            "9            0.0           rain  \n",
            "10           0.0         cloudy  \n",
            "11           0.0         cloudy  \n",
            "\n",
            "=== Forecast Weather ===\n",
            "         time  temperature_2m_max  temperature_2m_min  precipitation_sum  \\\n",
            "0  2025-10-01                14.1                 6.7                0.0   \n",
            "1  2025-10-02                13.6                 2.9                0.0   \n",
            "2  2025-10-03                12.2                 2.4                0.0   \n",
            "3  2025-10-04                14.8                 7.9                1.9   \n",
            "4  2025-10-05                13.5                 5.4                1.5   \n",
            "\n",
            "   windspeed_10m_max    weathercode  snowfall_sum  \n",
            "0               11.1         cloudy           0.0  \n",
            "1               11.2          sunny           0.0  \n",
            "2               11.3         cloudy           0.0  \n",
            "3               18.2  showers/windy           0.0  \n",
            "4               16.4  showers/windy           0.0  \n"
          ]
        }
      ]
    },
    {
      "cell_type": "markdown",
      "source": [
        "***Input 3: Yield Data (Optional but Recommended)***"
      ],
      "metadata": {
        "id": "iZOJQ2-h21k5"
      }
    },
    {
      "cell_type": "code",
      "source": [
        "df = pd.read_csv(\"FAOSTAT_data.csv\")\n",
        "\n",
        "keywords = [\"Wheat\", \"Barley\", \"Corn\", \"Soya\", \"Rapeseed\", \"Sunflower\"]\n",
        "\n",
        "mask = df[\"Item\"].str.contains('|'.join(keywords), case=False, na=False)\n",
        "df_filtered = df[mask]\n",
        "columns_to_keep = [\"Area\", \"Item\", \"Year\", \"Unit\", \"Value\"]\n",
        "df_filtered = df_filtered[columns_to_keep]\n",
        "print(df_filtered)\n"
      ],
      "metadata": {
        "id": "44_cDayPI2DZ",
        "colab": {
          "base_uri": "https://localhost:8080/"
        },
        "outputId": "486dff20-739b-4296-8d8b-5b3182e090a1"
      },
      "execution_count": null,
      "outputs": [
        {
          "output_type": "stream",
          "name": "stdout",
          "text": [
            "             Area    Item  Year   Unit     Value\n",
            "78    Switzerland  Barley  2018     ha   27897.0\n",
            "79    Switzerland  Barley  2018  kg/ha    6486.3\n",
            "80    Switzerland  Barley  2018      t  180948.0\n",
            "81    Switzerland  Barley  2019     ha   27178.0\n",
            "82    Switzerland  Barley  2019  kg/ha    6997.1\n",
            "...           ...     ...   ...    ...       ...\n",
            "1639  Switzerland   Wheat  2022  kg/ha    5465.7\n",
            "1640  Switzerland   Wheat  2022      t  486667.0\n",
            "1641  Switzerland   Wheat  2023     ha   87057.0\n",
            "1642  Switzerland   Wheat  2023  kg/ha    5139.7\n",
            "1643  Switzerland   Wheat  2023      t  447449.0\n",
            "\n",
            "[128 rows x 5 columns]\n"
          ]
        }
      ]
    },
    {
      "cell_type": "markdown",
      "source": [
        "***Input 4: Administrative or grid boundaries (crop location)***\n"
      ],
      "metadata": {
        "id": "orfsE2RWGiFs"
      }
    },
    {
      "cell_type": "code",
      "source": [
        "gdf = gpd.read_file(\"gadm41_CHE_3.shp\")\n",
        "point = Point(7.187919, 46.849259)\n",
        "region = gdf[gdf.geometry.contains(point)]\n",
        "print(region)"
      ],
      "metadata": {
        "colab": {
          "base_uri": "https://localhost:8080/"
        },
        "id": "GFFIM7FqGhDC",
        "outputId": "08eaac2c-2fd8-46ec-c935-e4e4c2226b75"
      },
      "execution_count": null,
      "outputs": [
        {
          "output_type": "stream",
          "name": "stdout",
          "text": [
            "           GID_3 GID_0      COUNTRY    GID_1    NAME_1 NL_NAME_1      GID_2  \\\n",
            "904  CHE.7.7.4_1   CHE  Switzerland  CHE.7_1  Fribourg        NA  CHE.7.7_1   \n",
            "\n",
            "    NAME_2 NL_NAME_2    NAME_3 VARNAME_3 NL_NAME_3   TYPE_3     ENGTYPE_3  \\\n",
            "904  Sense        NA  Düdingen        NA        NA  Commune  Municipality   \n",
            "\n",
            "    CC_3 HASC_3                                           geometry  \n",
            "904   NA     NA  POLYGON ((7.18216 46.80989, 7.17835 46.81351, ...  \n"
          ]
        }
      ]
    },
    {
      "cell_type": "code",
      "source": [],
      "metadata": {
        "colab": {
          "base_uri": "https://localhost:8080/"
        },
        "id": "f2mEEXCfVUxe",
        "outputId": "e3f5a9c4-c804-472d-b468-d0492ec95304"
      },
      "execution_count": null,
      "outputs": [
        {
          "output_type": "stream",
          "name": "stdout",
          "text": [
            "<class 'pandas.core.frame.DataFrame'>\n"
          ]
        }
      ]
    }
  ],
  "metadata": {
    "colab": {
      "provenance": []
    },
    "kernelspec": {
      "display_name": "Python 3",
      "name": "python3"
    }
  },
  "nbformat": 4,
  "nbformat_minor": 0
}