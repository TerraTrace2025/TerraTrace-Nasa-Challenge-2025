{
  "cells": [
    {
      "cell_type": "code",
      "source": [
        "\"\"\"\n",
        "!pip install geocoder\n",
        "!pip install meteostat\n",
        "!pip install geopandas\n",
        "!pip install osmnx\n",
        "\"\"\""
      ],
      "metadata": {
        "id": "mKJYawx3zPQN",
        "colab": {
          "base_uri": "https://localhost:8080/",
          "height": 36
        },
        "outputId": "1dc899ba-8b12-47b8-e97a-605e34ef0c78"
      },
      "execution_count": 263,
      "outputs": [
        {
          "output_type": "display_data",
          "data": {
            "text/plain": [
              "<IPython.core.display.HTML object>"
            ],
            "text/html": [
              "\n",
              "            <style>\n",
              "                .geemap-dark {\n",
              "                    --jp-widgets-color: white;\n",
              "                    --jp-widgets-label-color: white;\n",
              "                    --jp-ui-font-color1: white;\n",
              "                    --jp-layout-color2: #454545;\n",
              "                    background-color: #383838;\n",
              "                }\n",
              "\n",
              "                .geemap-dark .jupyter-button {\n",
              "                    --jp-layout-color3: #383838;\n",
              "                }\n",
              "\n",
              "                .geemap-colab {\n",
              "                    background-color: var(--colab-primary-surface-color, white);\n",
              "                }\n",
              "\n",
              "                .geemap-colab .jupyter-button {\n",
              "                    --jp-layout-color3: var(--colab-primary-surface-color, white);\n",
              "                }\n",
              "            </style>\n",
              "            "
            ]
          },
          "metadata": {}
        },
        {
          "output_type": "execute_result",
          "data": {
            "text/plain": [
              "'\\n!pip install geocoder\\n!pip install meteostat\\n!pip install geopandas\\n!pip install osmnx\\n'"
            ],
            "application/vnd.google.colaboratory.intrinsic+json": {
              "type": "string"
            }
          },
          "metadata": {},
          "execution_count": 263
        }
      ]
    },
    {
      "cell_type": "code",
      "source": [
        "import os\n",
        "import requests\n",
        "from datetime import datetime, timedelta, date\n",
        "import pandas as pd\n",
        "from google.colab import files\n",
        "import geocoder\n",
        "from geopy.geocoders import Nominatim\n",
        "from tqdm import tqdm\n",
        "import geopandas as gpd\n",
        "import osmnx as ox\n",
        "from shapely.geometry import Point\n",
        "import tkinter as tk\n",
        "from tkinter import messagebox\n",
        "import ipywidgets as widgets\n",
        "from IPython.display import display\n",
        "from dateutil import parser\n",
        "import ipywidgets as widgets\n",
        "from IPython.display import display\n",
        "from meteostat import Stations, Daily"
      ],
      "metadata": {
        "id": "BrqH4HEPbUrj",
        "colab": {
          "base_uri": "https://localhost:8080/",
          "height": 17
        },
        "outputId": "51799bab-6427-41f2-8a7d-62c5960460a3"
      },
      "execution_count": 264,
      "outputs": [
        {
          "output_type": "display_data",
          "data": {
            "text/plain": [
              "<IPython.core.display.HTML object>"
            ],
            "text/html": [
              "\n",
              "            <style>\n",
              "                .geemap-dark {\n",
              "                    --jp-widgets-color: white;\n",
              "                    --jp-widgets-label-color: white;\n",
              "                    --jp-ui-font-color1: white;\n",
              "                    --jp-layout-color2: #454545;\n",
              "                    background-color: #383838;\n",
              "                }\n",
              "\n",
              "                .geemap-dark .jupyter-button {\n",
              "                    --jp-layout-color3: #383838;\n",
              "                }\n",
              "\n",
              "                .geemap-colab {\n",
              "                    background-color: var(--colab-primary-surface-color, white);\n",
              "                }\n",
              "\n",
              "                .geemap-colab .jupyter-button {\n",
              "                    --jp-layout-color3: var(--colab-primary-surface-color, white);\n",
              "                }\n",
              "            </style>\n",
              "            "
            ]
          },
          "metadata": {}
        }
      ]
    },
    {
      "cell_type": "code",
      "source": [
        " N = 14 # we want to see the risk index in the future 7 days\n",
        " year = 2022\n",
        " loc_num= 5"
      ],
      "metadata": {
        "id": "vatZ-q9gCU44",
        "colab": {
          "base_uri": "https://localhost:8080/",
          "height": 17
        },
        "outputId": "123f30e3-3c16-4c80-f09c-4eba81f23be3"
      },
      "execution_count": 265,
      "outputs": [
        {
          "output_type": "display_data",
          "data": {
            "text/plain": [
              "<IPython.core.display.HTML object>"
            ],
            "text/html": [
              "\n",
              "            <style>\n",
              "                .geemap-dark {\n",
              "                    --jp-widgets-color: white;\n",
              "                    --jp-widgets-label-color: white;\n",
              "                    --jp-ui-font-color1: white;\n",
              "                    --jp-layout-color2: #454545;\n",
              "                    background-color: #383838;\n",
              "                }\n",
              "\n",
              "                .geemap-dark .jupyter-button {\n",
              "                    --jp-layout-color3: #383838;\n",
              "                }\n",
              "\n",
              "                .geemap-colab {\n",
              "                    background-color: var(--colab-primary-surface-color, white);\n",
              "                }\n",
              "\n",
              "                .geemap-colab .jupyter-button {\n",
              "                    --jp-layout-color3: var(--colab-primary-surface-color, white);\n",
              "                }\n",
              "            </style>\n",
              "            "
            ]
          },
          "metadata": {}
        }
      ]
    },
    {
      "cell_type": "markdown",
      "source": [
        "***Input*** ***1: Crop Information: Names & Locations***"
      ],
      "metadata": {
        "id": "y7lIZ_l5dSBL"
      }
    },
    {
      "cell_type": "code",
      "source": [
        "df = pd.read_excel(\"harvest_locations.xlsx\", skiprows=1)\n",
        "\n",
        "# state_location = df[\"Kt.\"]\n",
        "# origin_location = df[\"Standort\"]\n",
        "crop_names = df.columns[7:].tolist()\n",
        "\n",
        "mapping = {\n",
        "    'Brotweizen': 'Wheat',\n",
        "    'Umstellmahlweizen': 'Wheat',\n",
        "    'Futterweizen': 'Wheat',\n",
        "    'Futtergerste': 'Barley',\n",
        "    'Körnermais': 'Corn',\n",
        "    'Sojabohnen Futter': 'Soybean',\n",
        "    'Sojabohnen \"Tofu\"': 'Soybean',\n",
        "    'Raps Kl.': 'Rapeseed',\n",
        "    'Raps HOLL': 'Rapeseed',\n",
        "    'Sonnenblumen lino': 'Sunflowerseed',\n",
        "    'Sonnenblumen HO': 'Sunflowerseed'\n",
        "}"
      ],
      "metadata": {
        "colab": {
          "base_uri": "https://localhost:8080/",
          "height": 17
        },
        "id": "JE5tO0qME7iw",
        "outputId": "cbfd3917-0996-4265-ae1e-e749e8ff4cef"
      },
      "execution_count": 267,
      "outputs": [
        {
          "output_type": "display_data",
          "data": {
            "text/plain": [
              "<IPython.core.display.HTML object>"
            ],
            "text/html": [
              "\n",
              "            <style>\n",
              "                .geemap-dark {\n",
              "                    --jp-widgets-color: white;\n",
              "                    --jp-widgets-label-color: white;\n",
              "                    --jp-ui-font-color1: white;\n",
              "                    --jp-layout-color2: #454545;\n",
              "                    background-color: #383838;\n",
              "                }\n",
              "\n",
              "                .geemap-dark .jupyter-button {\n",
              "                    --jp-layout-color3: #383838;\n",
              "                }\n",
              "\n",
              "                .geemap-colab {\n",
              "                    background-color: var(--colab-primary-surface-color, white);\n",
              "                }\n",
              "\n",
              "                .geemap-colab .jupyter-button {\n",
              "                    --jp-layout-color3: var(--colab-primary-surface-color, white);\n",
              "                }\n",
              "            </style>\n",
              "            "
            ]
          },
          "metadata": {}
        }
      ]
    },
    {
      "cell_type": "code",
      "source": [
        "swiss_crop = [crop for crop in crop_names if crop in mapping]\n",
        "locations_dict = {}\n",
        "\n",
        "for crop in swiss_crop:\n",
        "    category = mapping[crop]\n",
        "    crop_locations = df.loc[df[crop] == \"x\", \"Standort\"].tolist()\n",
        "    crop_locations = crop_locations[:loc_num]\n",
        "    if category not in locations_dict:\n",
        "        locations_dict[category] = crop_locations\n",
        "    else:\n",
        "        combined = list(dict.fromkeys(locations_dict[category] + crop_locations))\n",
        "        locations_dict[category] = combined[:loc_num]\n",
        "for k, v in locations_dict.items():\n",
        "    print(f\"{k}: {v}\")\n",
        "    print(f\"{k}: {len(v)} locations\")"
      ],
      "metadata": {
        "id": "aLZL5v0vcvpU",
        "colab": {
          "base_uri": "https://localhost:8080/",
          "height": 241
        },
        "outputId": "3e159928-ab52-417e-b466-c1ba4190462d"
      },
      "execution_count": 271,
      "outputs": [
        {
          "output_type": "display_data",
          "data": {
            "text/plain": [
              "<IPython.core.display.HTML object>"
            ],
            "text/html": [
              "\n",
              "            <style>\n",
              "                .geemap-dark {\n",
              "                    --jp-widgets-color: white;\n",
              "                    --jp-widgets-label-color: white;\n",
              "                    --jp-ui-font-color1: white;\n",
              "                    --jp-layout-color2: #454545;\n",
              "                    background-color: #383838;\n",
              "                }\n",
              "\n",
              "                .geemap-dark .jupyter-button {\n",
              "                    --jp-layout-color3: #383838;\n",
              "                }\n",
              "\n",
              "                .geemap-colab {\n",
              "                    background-color: var(--colab-primary-surface-color, white);\n",
              "                }\n",
              "\n",
              "                .geemap-colab .jupyter-button {\n",
              "                    --jp-layout-color3: var(--colab-primary-surface-color, white);\n",
              "                }\n",
              "            </style>\n",
              "            "
            ]
          },
          "metadata": {}
        },
        {
          "output_type": "stream",
          "name": "stdout",
          "text": [
            "Wheat: ['5742 Kölliken', '5074 Eiken', '5610 Wohlen', '4800 Zofingen', '3054 Schüpfen']\n",
            "Wheat: 5 locations\n",
            "Barley: ['5742 Kölliken', '5074 Eiken', '5610 Wohlen', '4800 Zofingen', '3054 Schüpfen']\n",
            "Barley: 5 locations\n",
            "Corn: ['5742 Kölliken', '5074 Eiken', '5610 Wohlen', '3076 Worb', '3315 Bätterkinden']\n",
            "Corn: 5 locations\n",
            "Soybean: ['5074 Eiken', '5610 Wohlen', '4800 Zofingen', '3415 Hasle-Rüegsau', '3076 Worb']\n",
            "Soybean: 5 locations\n",
            "Rapeseed: ['3076 Worb', '4538 Oberbipp', '4917 Melchnau', '9494 Schaan (FL)', '1784 Courtepin']\n",
            "Rapeseed: 5 locations\n",
            "Sunflowerseed: ['5610 Wohlen', '3315 Bätterkinden', '4917 Melchnau', '3177 Laupen', '1242 Satigny']\n",
            "Sunflowerseed: 5 locations\n"
          ]
        }
      ]
    },
    {
      "cell_type": "code",
      "source": [
        "selected_crop = \"\"\n",
        "\n",
        "def confirm_selection(b):\n",
        "    global selected_crop\n",
        "    selected_crop = dropdown.value\n",
        "\n",
        "dropdown = widgets.Dropdown(\n",
        "    options=['Wheat', 'Barley', 'Corn', 'Soybean', 'Rapeseed', 'Sunflowerseed'],\n",
        "    description='Select the crop and check its risk index in {} days:'.format(N)\n",
        ")\n",
        "\n",
        "button = widgets.Button(description=\"Confirm Selection\")\n",
        "button.on_click(confirm_selection)\n",
        "\n",
        "display(dropdown, button)"
      ],
      "metadata": {
        "colab": {
          "base_uri": "https://localhost:8080/",
          "height": 81,
          "referenced_widgets": [
            "93273323cc99451094ad776b738ed390",
            "a22decf5529e49e5abd30fe16a56bf59",
            "7c843169218d469994227e83233e8336",
            "79907bfd43cb43b28482c9ee29e164fc",
            "97772bc0d4164fafa45a4d03694a8b51",
            "5ffe93524c374a8ebcdc8b18734841e1"
          ]
        },
        "id": "CgITwQ1wEAR9",
        "outputId": "bde04f59-a30b-41e8-8b6f-3117ab4ebb9f"
      },
      "execution_count": 272,
      "outputs": [
        {
          "output_type": "display_data",
          "data": {
            "text/plain": [
              "<IPython.core.display.HTML object>"
            ],
            "text/html": [
              "\n",
              "            <style>\n",
              "                .geemap-dark {\n",
              "                    --jp-widgets-color: white;\n",
              "                    --jp-widgets-label-color: white;\n",
              "                    --jp-ui-font-color1: white;\n",
              "                    --jp-layout-color2: #454545;\n",
              "                    background-color: #383838;\n",
              "                }\n",
              "\n",
              "                .geemap-dark .jupyter-button {\n",
              "                    --jp-layout-color3: #383838;\n",
              "                }\n",
              "\n",
              "                .geemap-colab {\n",
              "                    background-color: var(--colab-primary-surface-color, white);\n",
              "                }\n",
              "\n",
              "                .geemap-colab .jupyter-button {\n",
              "                    --jp-layout-color3: var(--colab-primary-surface-color, white);\n",
              "                }\n",
              "            </style>\n",
              "            "
            ]
          },
          "metadata": {}
        },
        {
          "output_type": "display_data",
          "data": {
            "text/plain": [
              "Dropdown(description='Select the crop and check its risk index in 14 days:', options=('Wheat', 'Barley', 'Corn…"
            ],
            "application/vnd.jupyter.widget-view+json": {
              "version_major": 2,
              "version_minor": 0,
              "model_id": "93273323cc99451094ad776b738ed390"
            }
          },
          "metadata": {
            "application/vnd.jupyter.widget-view+json": {
              "colab": {
                "custom_widget_manager": {
                  "url": "https://ssl.gstatic.com/colaboratory-static/widgets/colab-cdn-widget-manager/2b70e893a8ba7c0f/manager.min.js"
                }
              }
            }
          }
        },
        {
          "output_type": "display_data",
          "data": {
            "text/plain": [
              "Button(description='Confirm Selection', style=ButtonStyle())"
            ],
            "application/vnd.jupyter.widget-view+json": {
              "version_major": 2,
              "version_minor": 0,
              "model_id": "79907bfd43cb43b28482c9ee29e164fc"
            }
          },
          "metadata": {
            "application/vnd.jupyter.widget-view+json": {
              "colab": {
                "custom_widget_manager": {
                  "url": "https://ssl.gstatic.com/colaboratory-static/widgets/colab-cdn-widget-manager/2b70e893a8ba7c0f/manager.min.js"
                }
              }
            }
          }
        }
      ]
    },
    {
      "cell_type": "code",
      "source": [
        "print(\"Risk in index for\", selected_crop, \"in {} days\".format(N))"
      ],
      "metadata": {
        "colab": {
          "base_uri": "https://localhost:8080/",
          "height": 36
        },
        "id": "o2zW4o9zB74e",
        "outputId": "0efa870f-d0f1-4beb-b367-4130f599a4ba"
      },
      "execution_count": 273,
      "outputs": [
        {
          "output_type": "display_data",
          "data": {
            "text/plain": [
              "<IPython.core.display.HTML object>"
            ],
            "text/html": [
              "\n",
              "            <style>\n",
              "                .geemap-dark {\n",
              "                    --jp-widgets-color: white;\n",
              "                    --jp-widgets-label-color: white;\n",
              "                    --jp-ui-font-color1: white;\n",
              "                    --jp-layout-color2: #454545;\n",
              "                    background-color: #383838;\n",
              "                }\n",
              "\n",
              "                .geemap-dark .jupyter-button {\n",
              "                    --jp-layout-color3: #383838;\n",
              "                }\n",
              "\n",
              "                .geemap-colab {\n",
              "                    background-color: var(--colab-primary-surface-color, white);\n",
              "                }\n",
              "\n",
              "                .geemap-colab .jupyter-button {\n",
              "                    --jp-layout-color3: var(--colab-primary-surface-color, white);\n",
              "                }\n",
              "            </style>\n",
              "            "
            ]
          },
          "metadata": {}
        },
        {
          "output_type": "stream",
          "name": "stdout",
          "text": [
            "Risk in index for Wheat in 14 days\n"
          ]
        }
      ]
    },
    {
      "cell_type": "code",
      "source": [
        "geolocator = Nominatim(user_agent=\"geoapi\", timeout=10)\n",
        "\n",
        "cache = {}\n",
        "\n",
        "def clean_location(address):\n",
        "    address = address.replace(\"b.\", \"bei\")\n",
        "    if \"(FL)\" in address:\n",
        "        address = address.replace(\"(FL)\", \"\").strip()\n",
        "        country = \"Liechtenstein\"\n",
        "    else:\n",
        "        country = \"Switzerland\"\n",
        "    return address, country\n",
        "\n",
        "def get_lat_lon_cached(address):\n",
        "    if address in cache:\n",
        "        return cache[address]\n",
        "\n",
        "    try:\n",
        "        clean_addr, country = clean_location(address)\n",
        "        location = geolocator.geocode(f\"{clean_addr}, {country}\")\n",
        "        if location:\n",
        "            result = (location.latitude, location.longitude)\n",
        "        else:\n",
        "            result = (None, None)\n",
        "    except:\n",
        "        result = (None, None)\n",
        "\n",
        "    manual_fix = {\n",
        "        \"3292 Busswil bei Büren\": (47.133, 7.246),\n",
        "        \"9494 Schaan\": (47.166, 9.516)\n",
        "    }\n",
        "    if result == (None, None) and clean_addr in manual_fix:\n",
        "        result = manual_fix[clean_addr]\n",
        "\n",
        "    cache[address] = result\n",
        "    return result\n",
        "\n",
        "print(f\"Processing {selected_crop}...\")\n",
        "\n",
        "coords_list = []\n",
        "for loc in tqdm(locations_dict[selected_crop]):\n",
        "    lat, lon = get_lat_lon_cached(loc)\n",
        "    coords_list.append([loc, lat, lon])\n",
        "\n",
        "selected_crop_loc = pd.DataFrame(coords_list, columns=[\"Standort\", \"Latitude\", \"Longitude\"])\n",
        "\n",
        "print(\" \")\n",
        "print(\"The locations of farms in Switzerland for {}\".format(selected_crop))\n",
        "print(\" \")\n",
        "print(selected_crop_loc)"
      ],
      "metadata": {
        "colab": {
          "base_uri": "https://localhost:8080/",
          "height": 223
        },
        "id": "rBzOmh6Lzu2P",
        "outputId": "de4f0e78-e7c5-448a-89bc-49b1df869840"
      },
      "execution_count": 274,
      "outputs": [
        {
          "output_type": "display_data",
          "data": {
            "text/plain": [
              "<IPython.core.display.HTML object>"
            ],
            "text/html": [
              "\n",
              "            <style>\n",
              "                .geemap-dark {\n",
              "                    --jp-widgets-color: white;\n",
              "                    --jp-widgets-label-color: white;\n",
              "                    --jp-ui-font-color1: white;\n",
              "                    --jp-layout-color2: #454545;\n",
              "                    background-color: #383838;\n",
              "                }\n",
              "\n",
              "                .geemap-dark .jupyter-button {\n",
              "                    --jp-layout-color3: #383838;\n",
              "                }\n",
              "\n",
              "                .geemap-colab {\n",
              "                    background-color: var(--colab-primary-surface-color, white);\n",
              "                }\n",
              "\n",
              "                .geemap-colab .jupyter-button {\n",
              "                    --jp-layout-color3: var(--colab-primary-surface-color, white);\n",
              "                }\n",
              "            </style>\n",
              "            "
            ]
          },
          "metadata": {}
        },
        {
          "output_type": "stream",
          "name": "stdout",
          "text": [
            "Processing Wheat...\n"
          ]
        },
        {
          "output_type": "stream",
          "name": "stderr",
          "text": [
            "100%|██████████| 5/5 [00:04<00:00,  1.15it/s]"
          ]
        },
        {
          "output_type": "stream",
          "name": "stdout",
          "text": [
            " \n",
            "The locations of farms in Switzerland for Wheat\n",
            " \n",
            "        Standort   Latitude  Longitude\n",
            "0  5742 Kölliken  47.334149   8.021650\n",
            "1     5074 Eiken  47.534331   7.987837\n",
            "2    5610 Wohlen  47.350194   8.279049\n",
            "3  4800 Zofingen  47.286283   7.948603\n",
            "4  3054 Schüpfen  47.039854   7.375502\n"
          ]
        },
        {
          "output_type": "stream",
          "name": "stderr",
          "text": [
            "\n"
          ]
        }
      ]
    },
    {
      "cell_type": "markdown",
      "source": [
        "***Input 2: Climate Data***"
      ],
      "metadata": {
        "id": "Xv0GKbwXdhCP"
      }
    },
    {
      "cell_type": "markdown",
      "source": [
        "* Historical climate data"
      ],
      "metadata": {
        "id": "jmTaC68U2pfz"
      }
    },
    {
      "cell_type": "code",
      "source": [
        "weather_rows = []\n",
        "columns_keep = [\"tavg\", \"tmin\", \"tmax\", \"prcp\", \"snow\", \"wspd\", \"wpgt\"]\n",
        "\n",
        "for idx, row in selected_crop_loc.iterrows():\n",
        "    lat, lon = row[\"Latitude\"], row[\"Longitude\"]\n",
        "    start = datetime(year, 1, 1)\n",
        "    end = datetime(year, 12, 31)\n",
        "    stations = Stations().nearby(lat, lon).fetch(10)\n",
        "    if stations.empty:\n",
        "        print(f\"No stations found for {lat},{lon}\")\n",
        "        continue\n",
        "    station_means = []\n",
        "    for sid in stations.index:\n",
        "        try:\n",
        "            data = Daily(sid, start, end).fetch()\n",
        "            if data.empty:\n",
        "                continue\n",
        "            yearly_mean = data[columns_keep].mean()\n",
        "            station_means.append(yearly_mean)\n",
        "        except Exception as e:\n",
        "            print(f\"Failed for station {sid}: {e}\")\n",
        "    if not station_means:\n",
        "        continue\n",
        "    combined_mean = pd.concat(station_means, axis=1).mean(axis=1, skipna=True)\n",
        "    weather_data = {\n",
        "        \"Standort\": row[\"Standort\"],\n",
        "        \"Latitude\": lat,\n",
        "        \"Longitude\": lon\n",
        "    }\n",
        "    weather_data.update(combined_mean.to_dict())\n",
        "    weather_rows.append(weather_data)\n",
        "    if len(weather_rows) >= loc_num:\n",
        "        break\n",
        "\n",
        "weather_df = pd.DataFrame(weather_rows)\n",
        "if \"snow\" in weather_df.columns:\n",
        "    weather_df[\"snow\"].fillna(0.025, inplace=True)\n",
        "\n",
        "print(weather_df)"
      ],
      "metadata": {
        "colab": {
          "base_uri": "https://localhost:8080/",
          "height": 392
        },
        "id": "L_p8sMZRlPZj",
        "outputId": "9d255fe8-6c82-49bb-9381-b4ae4d919a8f"
      },
      "execution_count": 275,
      "outputs": [
        {
          "output_type": "display_data",
          "data": {
            "text/plain": [
              "<IPython.core.display.HTML object>"
            ],
            "text/html": [
              "\n",
              "            <style>\n",
              "                .geemap-dark {\n",
              "                    --jp-widgets-color: white;\n",
              "                    --jp-widgets-label-color: white;\n",
              "                    --jp-ui-font-color1: white;\n",
              "                    --jp-layout-color2: #454545;\n",
              "                    background-color: #383838;\n",
              "                }\n",
              "\n",
              "                .geemap-dark .jupyter-button {\n",
              "                    --jp-layout-color3: #383838;\n",
              "                }\n",
              "\n",
              "                .geemap-colab {\n",
              "                    background-color: var(--colab-primary-surface-color, white);\n",
              "                }\n",
              "\n",
              "                .geemap-colab .jupyter-button {\n",
              "                    --jp-layout-color3: var(--colab-primary-surface-color, white);\n",
              "                }\n",
              "            </style>\n",
              "            "
            ]
          },
          "metadata": {}
        },
        {
          "output_type": "stream",
          "name": "stdout",
          "text": [
            "        Standort   Latitude  Longitude       tavg      tmin       tmax  \\\n",
            "0  5742 Kölliken  47.334149   8.021650  11.393887  7.236445  15.984835   \n",
            "1     5074 Eiken  47.534331   7.987837  11.448713  7.177498  16.136100   \n",
            "2    5610 Wohlen  47.350194   8.279049  11.155713  7.050572  15.631616   \n",
            "3  4800 Zofingen  47.286283   7.948603  10.993097  6.940142  15.409472   \n",
            "4  3054 Schüpfen  47.039854   7.375502  10.571420  6.475314  15.025539   \n",
            "\n",
            "       prcp       snow      wspd       wpgt  \n",
            "0  2.634247   0.025000  6.782579  25.277526  \n",
            "1  2.909954  20.176152  7.222095  25.520316  \n",
            "2  2.360261   0.197802  7.187400  26.832181  \n",
            "3  2.411644   1.084906  8.103768  28.019193  \n",
            "4  2.919732   0.025000  9.606151  29.593421  \n"
          ]
        },
        {
          "output_type": "stream",
          "name": "stderr",
          "text": [
            "FutureWarning: A value is trying to be set on a copy of a DataFrame or Series through chained assignment using an inplace method.\n",
            "The behavior will change in pandas 3.0. This inplace method will never work because the intermediate object on which we are setting values always behaves as a copy.\n",
            "\n",
            "For example, when doing 'df[col].method(value, inplace=True)', try using 'df.method({col: value}, inplace=True)' or df[col] = df[col].method(value) instead, to perform the operation inplace on the original object.\n",
            "\n",
            "\n"
          ]
        }
      ]
    },
    {
      "cell_type": "markdown",
      "source": [
        "***Collection of extrem weather days***"
      ],
      "metadata": {
        "id": "wtmqWGmkQyQD"
      }
    },
    {
      "cell_type": "code",
      "source": [
        "\"\"\"\n",
        "OPEN_METEO_ARCHIVE = \"https://archive-api.open-meteo.com/v1/archive\"\n",
        "\n",
        "THRESH = {\n",
        "    \"heavy_rain_mm\": 50.0,\n",
        "    \"heavy_snow_cm\": 20.0,\n",
        "    \"heatwave_temp_c\": 35.0,\n",
        "    \"strong_wind_ms\": 15.0,\n",
        "    \"extreme_uv_index\": 8.0,\n",
        "    \"dry_day_precip_mm\": 1.0,\n",
        "    \"dry_fraction_for_drought\": 0.8,\n",
        "}\n",
        "\n",
        "def get_yearly_weather_and_extremes(lat, lon, year, thresholds=None, timezone=\"Europe/Zurich\"):\n",
        "    if thresholds is None:\n",
        "        thresholds = THRESH\n",
        "    else:\n",
        "        tmp = THRESH.copy()\n",
        "        tmp.update(thresholds)\n",
        "        thresholds = tmp\n",
        "\n",
        "    start_date = f\"{year}-01-01\"\n",
        "    end_date = f\"{year}-12-31\"\n",
        "\n",
        "    params = {\n",
        "        \"latitude\": lat,\n",
        "        \"longitude\": lon,\n",
        "        \"start_date\": start_date,\n",
        "        \"end_date\": end_date,\n",
        "        \"daily\": \",\".join([\n",
        "            \"temperature_2m_max\",\"temperature_2m_min\",\n",
        "            \"precipitation_sum\",\"snowfall_sum\",\n",
        "            \"wind_speed_10m_max\",\"uv_index_max\"\n",
        "        ]),\n",
        "        \"timezone\": timezone\n",
        "    }\n",
        "\n",
        "    r = requests.get(OPEN_METEO_ARCHIVE, params=params, timeout=30)\n",
        "    r.raise_for_status()\n",
        "    data = r.json()\n",
        "    daily = data.get(\"daily\", {})\n",
        "    if not daily:\n",
        "        raise ValueError(\"Open-Meteo returned no daily data for the given coordinates/year.\")\n",
        "\n",
        "    df = pd.DataFrame(daily)\n",
        "\n",
        "    mean_data = {\n",
        "        \"mean_temperature_2m_max\": df[\"temperature_2m_max\"].mean(),\n",
        "        \"mean_temperature_2m_min\": df[\"temperature_2m_min\"].mean(),\n",
        "        \"mean_precipitation_sum\": df[\"precipitation_sum\"].mean(),\n",
        "        \"mean_snowfall_sum\": df[\"snowfall_sum\"].mean(),\n",
        "        \"mean_wind_speed_10m_max\": df[\"wind_speed_10m_max\"].mean(),\n",
        "        \"mean_uv_index_max\": df[\"uv_index_max\"].mean()\n",
        "    }\n",
        "\n",
        "    df[\"extreme_uv\"] = df[\"uv_index_max\"] >= thresholds[\"extreme_uv_index\"]\n",
        "    df[\"heavy_rain\"] = df[\"precipitation_sum\"] >= thresholds[\"heavy_rain_mm\"]\n",
        "    df[\"heavy_snow\"] = df[\"snowfall_sum\"]/10 >= thresholds[\"heavy_snow_cm\"]  # 转为cm\n",
        "    df[\"extreme_heat\"] = df[\"temperature_2m_max\"] >= thresholds[\"heatwave_temp_c\"]\n",
        "    df[\"strong_wind\"] = df[\"wind_speed_10m_max\"] >= thresholds[\"strong_wind_ms\"]\n",
        "    df[\"dry_day\"] = df[\"precipitation_sum\"] < thresholds[\"dry_day_precip_mm\"]\n",
        "\n",
        "    total_days = len(df)\n",
        "    dry_days = int(df[\"dry_day\"].sum())\n",
        "    dry_fraction = dry_days / total_days if total_days > 0 else None\n",
        "    simple_drought_flag = dry_fraction is not None and dry_fraction >= thresholds[\"dry_fraction_for_drought\"]\n",
        "\n",
        "    extreme_summary = {\n",
        "        \"period_days\": total_days,\n",
        "        \"heavy_rain_days\": int(df[\"heavy_rain\"].sum()),\n",
        "        \"heavy_snow_days\": int(df[\"heavy_snow\"].sum()),\n",
        "        \"extreme_uv_days\": int(df[\"extreme_uv\"].sum()),\n",
        "        \"extreme_heat_days\": int(df[\"extreme_heat\"].sum()),\n",
        "        \"strong_wind_days\": int(df[\"strong_wind\"].sum()),\n",
        "        \"dry_days\": dry_days,\n",
        "        \"dry_fraction\": dry_fraction,\n",
        "        \"simple_drought_detected\": bool(simple_drought_flag)\n",
        "    }\n",
        "\n",
        "    result = {**mean_data, **extreme_summary}\n",
        "    return result\n",
        "\n",
        "summary_rows = []\n",
        "for idx, row in selected_crop_loc.iterrows():\n",
        "    try:\n",
        "        weather_summary = get_yearly_weather_and_extremes(\n",
        "            lat=row[\"Latitude\"], lon=row[\"Longitude\"], year=year\n",
        "        )\n",
        "        row_data = {\n",
        "            \"Standort\": row[\"Standort\"],\n",
        "            \"Latitude\": row[\"Latitude\"],\n",
        "            \"Longitude\": row[\"Longitude\"]\n",
        "        }\n",
        "        row_data.update(weather_summary)\n",
        "        summary_rows.append(row_data)\n",
        "        time.sleep(1)\n",
        "    except requests.exceptions.HTTPError as e:\n",
        "        print(f\"Request failed for {row['Standort']}: {e}\")\n",
        "        time.sleep(1)\n",
        "\n",
        "extreme_weather_df = pd.DataFrame(summary_rows)\n",
        "print(extreme_weather_df)\n",
        "\"\"\""
      ],
      "metadata": {
        "colab": {
          "base_uri": "https://localhost:8080/",
          "height": 129
        },
        "id": "kPVKPgzIzKX5",
        "outputId": "bf87f190-f246-4b56-8dca-c66eb6888bf7"
      },
      "execution_count": 276,
      "outputs": [
        {
          "output_type": "display_data",
          "data": {
            "text/plain": [
              "<IPython.core.display.HTML object>"
            ],
            "text/html": [
              "\n",
              "            <style>\n",
              "                .geemap-dark {\n",
              "                    --jp-widgets-color: white;\n",
              "                    --jp-widgets-label-color: white;\n",
              "                    --jp-ui-font-color1: white;\n",
              "                    --jp-layout-color2: #454545;\n",
              "                    background-color: #383838;\n",
              "                }\n",
              "\n",
              "                .geemap-dark .jupyter-button {\n",
              "                    --jp-layout-color3: #383838;\n",
              "                }\n",
              "\n",
              "                .geemap-colab {\n",
              "                    background-color: var(--colab-primary-surface-color, white);\n",
              "                }\n",
              "\n",
              "                .geemap-colab .jupyter-button {\n",
              "                    --jp-layout-color3: var(--colab-primary-surface-color, white);\n",
              "                }\n",
              "            </style>\n",
              "            "
            ]
          },
          "metadata": {}
        },
        {
          "output_type": "execute_result",
          "data": {
            "text/plain": [
              "'\\nOPEN_METEO_ARCHIVE = \"https://archive-api.open-meteo.com/v1/archive\"\\n\\nTHRESH = {\\n    \"heavy_rain_mm\": 50.0,\\n    \"heavy_snow_cm\": 20.0,\\n    \"heatwave_temp_c\": 35.0,\\n    \"strong_wind_ms\": 15.0,\\n    \"extreme_uv_index\": 8.0,\\n    \"dry_day_precip_mm\": 1.0,\\n    \"dry_fraction_for_drought\": 0.8,\\n}\\n\\ndef get_yearly_weather_and_extremes(lat, lon, year, thresholds=None, timezone=\"Europe/Zurich\"):\\n    if thresholds is None:\\n        thresholds = THRESH\\n    else:\\n        tmp = THRESH.copy()\\n        tmp.update(thresholds)\\n        thresholds = tmp\\n\\n    start_date = f\"{year}-01-01\"\\n    end_date = f\"{year}-12-31\"\\n\\n    params = {\\n        \"latitude\": lat,\\n        \"longitude\": lon,\\n        \"start_date\": start_date,\\n        \"end_date\": end_date,\\n        \"daily\": \",\".join([\\n            \"temperature_2m_max\",\"temperature_2m_min\",\\n            \"precipitation_sum\",\"snowfall_sum\",\\n            \"wind_speed_10m_max\",\"uv_index_max\"\\n        ]),\\n        \"timezone\": timezone\\n    }\\n\\n    r = requests.get(OPEN_METEO_ARCHIVE, params=params, timeout=30)\\n    r.raise_for_status()\\n    data = r.json()\\n    daily = data.get(\"daily\", {})\\n    if not daily:\\n        raise ValueError(\"Open-Meteo returned no daily data for the given coordinates/year.\")\\n\\n    df = pd.DataFrame(daily)\\n\\n    mean_data = {\\n        \"mean_temperature_2m_max\": df[\"temperature_2m_max\"].mean(),\\n        \"mean_temperature_2m_min\": df[\"temperature_2m_min\"].mean(),\\n        \"mean_precipitation_sum\": df[\"precipitation_sum\"].mean(),\\n        \"mean_snowfall_sum\": df[\"snowfall_sum\"].mean(),\\n        \"mean_wind_speed_10m_max\": df[\"wind_speed_10m_max\"].mean(),\\n        \"mean_uv_index_max\": df[\"uv_index_max\"].mean()\\n    }\\n\\n    df[\"extreme_uv\"] = df[\"uv_index_max\"] >= thresholds[\"extreme_uv_index\"]\\n    df[\"heavy_rain\"] = df[\"precipitation_sum\"] >= thresholds[\"heavy_rain_mm\"]\\n    df[\"heavy_snow\"] = df[\"snowfall_sum\"]/10 >= thresholds[\"heavy_snow_cm\"]  # 转为cm\\n    df[\"extreme_heat\"] = df[\"temperature_2m_max\"] >= thresholds[\"heatwave_temp_c\"]\\n    df[\"strong_wind\"] = df[\"wind_speed_10m_max\"] >= thresholds[\"strong_wind_ms\"]\\n    df[\"dry_day\"] = df[\"precipitation_sum\"] < thresholds[\"dry_day_precip_mm\"]\\n\\n    total_days = len(df)\\n    dry_days = int(df[\"dry_day\"].sum())\\n    dry_fraction = dry_days / total_days if total_days > 0 else None\\n    simple_drought_flag = dry_fraction is not None and dry_fraction >= thresholds[\"dry_fraction_for_drought\"]\\n\\n    extreme_summary = {\\n        \"period_days\": total_days,\\n        \"heavy_rain_days\": int(df[\"heavy_rain\"].sum()),\\n        \"heavy_snow_days\": int(df[\"heavy_snow\"].sum()),\\n        \"extreme_uv_days\": int(df[\"extreme_uv\"].sum()),\\n        \"extreme_heat_days\": int(df[\"extreme_heat\"].sum()),\\n        \"strong_wind_days\": int(df[\"strong_wind\"].sum()),\\n        \"dry_days\": dry_days,\\n        \"dry_fraction\": dry_fraction,\\n        \"simple_drought_detected\": bool(simple_drought_flag)\\n    }\\n\\n    result = {**mean_data, **extreme_summary}\\n    return result\\n\\nsummary_rows = []\\nfor idx, row in selected_crop_loc.iterrows():\\n    try:\\n        weather_summary = get_yearly_weather_and_extremes(\\n            lat=row[\"Latitude\"], lon=row[\"Longitude\"], year=year\\n        )\\n        row_data = {\\n            \"Standort\": row[\"Standort\"],\\n            \"Latitude\": row[\"Latitude\"],\\n            \"Longitude\": row[\"Longitude\"]\\n        }\\n        row_data.update(weather_summary)\\n        summary_rows.append(row_data)\\n        time.sleep(1)\\n    except requests.exceptions.HTTPError as e:\\n        print(f\"Request failed for {row[\\'Standort\\']}: {e}\")\\n        time.sleep(1)\\n\\nextreme_weather_df = pd.DataFrame(summary_rows)\\nprint(extreme_weather_df)\\n'"
            ],
            "application/vnd.google.colaboratory.intrinsic+json": {
              "type": "string"
            }
          },
          "metadata": {},
          "execution_count": 276
        }
      ]
    },
    {
      "cell_type": "code",
      "source": [
        "\"\"\"\n",
        "def get_forecast_weather(n_days):\n",
        "\n",
        "    Fetch forecast daily weather for the next n_days.\n",
        "    Converts official weathercode to simplified types like historical data.\n",
        "\n",
        "    FORECAST_URL = \"https://api.open-meteo.com/v1/forecast\"\n",
        "    start_date = date.today()\n",
        "    end_date = start_date + timedelta(days=n_days-1)\n",
        "\n",
        "    daily_vars = [\n",
        "        \"temperature_2m_max\",\"temperature_2m_min\",\n",
        "        \"precipitation_sum\",\"windspeed_10m_max\",\n",
        "        \"weathercode\",\"snowfall_sum\"\n",
        "    ]\n",
        "\n",
        "    params = {\n",
        "        \"latitude\": latitude,\n",
        "        \"longitude\": longitude,\n",
        "        \"daily\": \",\".join(daily_vars),\n",
        "        \"start_date\": start_date.isoformat(),\n",
        "        \"end_date\": end_date.isoformat(),\n",
        "        \"timezone\": \"Europe/Zurich\"\n",
        "    }\n",
        "    resp = requests.get(FORECAST_URL, params=params)\n",
        "    if resp.status_code == 200:\n",
        "        df = pd.DataFrame(resp.json()[\"daily\"])\n",
        "\n",
        "        # map official weathercode to simplified types\n",
        "        def code_to_simple(wc, precip, wind, snow):\n",
        "            if snow > 0:\n",
        "                return \"snow\"\n",
        "            elif precip > 5:\n",
        "                return \"rain\"\n",
        "            elif precip > 0 and wind > 10:\n",
        "                return \"showers/windy\"\n",
        "            elif wc in [0,1,2]:  # clear/sunny codes\n",
        "                return \"sunny\"\n",
        "            else:\n",
        "                return \"cloudy\"\n",
        "\n",
        "        df[\"weathercode\"] = df.apply(lambda row: code_to_simple(\n",
        "            row[\"weathercode\"], row[\"precipitation_sum\"], row[\"windspeed_10m_max\"], row.get(\"snowfall_sum\",0)\n",
        "        ), axis=1)\n",
        "        return df\n",
        "    else:\n",
        "        print(\"Forecast request failed:\", resp.status_code)\n",
        "        return None\n",
        "\"\"\""
      ],
      "metadata": {
        "id": "Ea9qeqjfGTIi"
      },
      "execution_count": null,
      "outputs": []
    },
    {
      "cell_type": "code",
      "source": [
        "\"\"\"\n",
        "print(\"=== Forecast Weather ===\")\n",
        "try:\n",
        "    fc_df = get_forecast_weather(14)  # next 5 days\n",
        "    if fc_df is not None:\n",
        "        print(fc_df)\n",
        "except Exception as e:\n",
        "    print(\"Forecast weather fetch error:\", e)\n",
        "\"\"\""
      ],
      "metadata": {
        "id": "WvRwjwkUrVlN"
      },
      "execution_count": null,
      "outputs": []
    },
    {
      "cell_type": "markdown",
      "source": [
        "***Input 3: Yield Data (Optional but Recommended)***"
      ],
      "metadata": {
        "id": "iZOJQ2-h21k5"
      }
    },
    {
      "cell_type": "code",
      "source": [
        "df = pd.read_csv(\"FAOSTAT_data.csv\")\n",
        "\n",
        "keywords = [\"Wheat\", \"Barley\", \"Corn\", \"Soya\", \"Rapeseed\", \"Sunflower\"]\n",
        "\n",
        "mask = df[\"Item\"].str.contains('|'.join(keywords), case=False, na=False)\n",
        "df_filtered = df[mask]\n",
        "columns_to_keep = [\"Area\", \"Item\", \"Year\", \"Unit\", \"Value\"]\n",
        "df_filtered = df_filtered[columns_to_keep]\n",
        "print(df_filtered)\n"
      ],
      "metadata": {
        "id": "44_cDayPI2DZ",
        "colab": {
          "base_uri": "https://localhost:8080/",
          "height": 279
        },
        "outputId": "da2287a1-cb3e-4825-8b61-3eba5b6fdcaa"
      },
      "execution_count": null,
      "outputs": [
        {
          "output_type": "display_data",
          "data": {
            "text/plain": [
              "<IPython.core.display.HTML object>"
            ],
            "text/html": [
              "\n",
              "            <style>\n",
              "                .geemap-dark {\n",
              "                    --jp-widgets-color: white;\n",
              "                    --jp-widgets-label-color: white;\n",
              "                    --jp-ui-font-color1: white;\n",
              "                    --jp-layout-color2: #454545;\n",
              "                    background-color: #383838;\n",
              "                }\n",
              "\n",
              "                .geemap-dark .jupyter-button {\n",
              "                    --jp-layout-color3: #383838;\n",
              "                }\n",
              "\n",
              "                .geemap-colab {\n",
              "                    background-color: var(--colab-primary-surface-color, white);\n",
              "                }\n",
              "\n",
              "                .geemap-colab .jupyter-button {\n",
              "                    --jp-layout-color3: var(--colab-primary-surface-color, white);\n",
              "                }\n",
              "            </style>\n",
              "            "
            ]
          },
          "metadata": {}
        },
        {
          "output_type": "stream",
          "name": "stdout",
          "text": [
            "             Area    Item  Year   Unit     Value\n",
            "78    Switzerland  Barley  2018     ha   27897.0\n",
            "79    Switzerland  Barley  2018  kg/ha    6486.3\n",
            "80    Switzerland  Barley  2018      t  180948.0\n",
            "81    Switzerland  Barley  2019     ha   27178.0\n",
            "82    Switzerland  Barley  2019  kg/ha    6997.1\n",
            "...           ...     ...   ...    ...       ...\n",
            "1639  Switzerland   Wheat  2022  kg/ha    5465.7\n",
            "1640  Switzerland   Wheat  2022      t  486667.0\n",
            "1641  Switzerland   Wheat  2023     ha   87057.0\n",
            "1642  Switzerland   Wheat  2023  kg/ha    5139.7\n",
            "1643  Switzerland   Wheat  2023      t  447449.0\n",
            "\n",
            "[128 rows x 5 columns]\n"
          ]
        }
      ]
    },
    {
      "cell_type": "markdown",
      "source": [
        "***Input 4: Administrative or grid boundaries (crop location)***\n"
      ],
      "metadata": {
        "id": "orfsE2RWGiFs"
      }
    },
    {
      "cell_type": "code",
      "source": [
        "import ee\n",
        "import geemap\n",
        "\n",
        "# =========================\n",
        "# 0️⃣ 初始化 Earth Engine\n",
        "# =========================\n",
        "ee.Authenticate()  # 只需运行一次，会弹出授权\n",
        "ee.Initialize(project='trusty-sentinel-473919-a6')  # 填入你的项目ID\n",
        "\n",
        "# =========================\n",
        "# 1️⃣ 设置作物产地\n",
        "# =========================\n",
        "locations = [\n",
        "    {\"name\": \"Ersigen\", \"lat\": 47.093969, \"lon\": 7.600372, \"crop\": \"Barley\"},\n",
        "    {\"name\": \"Düdingen\", \"lat\": 46.849259, \"lon\": 7.187919, \"crop\": \"Barley\"},\n",
        "    {\"name\": \"Bercher\", \"lat\": 46.691383, \"lon\": 6.708446, \"crop\": \"Barley\"}\n",
        "    # 可继续补充其他地点\n",
        "]\n",
        "\n",
        "# =========================\n",
        "# 2️⃣ 获取 Sentinel-2 遥感影像并计算 NDVI\n",
        "# =========================\n",
        "# 这里 filterBounds 先取全部地点的范围\n",
        "all_points = ee.Geometry.MultiPoint([[loc[\"lon\"], loc[\"lat\"]] for loc in locations])\n",
        "\n",
        "collection = (ee.ImageCollection(\"COPERNICUS/S2_SR_HARMONIZED\")\n",
        "              .filterDate(\"2024-04-01\", \"2024-09-30\")  # 生长季\n",
        "              .filterBounds(all_points)\n",
        "              .map(lambda img: img.normalizedDifference(['B8', 'B4']).rename('NDVI')))\n",
        "\n",
        "# =========================\n",
        "# 3️⃣ 提取每个地点 NDVI\n",
        "# =========================\n",
        "def get_ndvi(loc):\n",
        "    point = ee.Geometry.Point([loc[\"lon\"], loc[\"lat\"]])\n",
        "    ndvi_ts = collection.mean().reduceRegion(\n",
        "        reducer=ee.Reducer.mean(),\n",
        "        geometry=point.buffer(500),  # 500m 缓冲区\n",
        "        scale=10\n",
        "    )\n",
        "    ndvi_value = ndvi_ts.get(\"NDVI\").getInfo()  # 可能是 None\n",
        "    return {\n",
        "        \"name\": loc[\"name\"],\n",
        "        \"crop\": loc[\"crop\"],\n",
        "        \"ndvi\": ndvi_value\n",
        "    }\n",
        "\n",
        "results = [get_ndvi(loc) for loc in locations]\n",
        "\n",
        "# =========================\n",
        "# 4️⃣ 用 NDVI 分配产量\n",
        "# =========================\n",
        "total_barley = 100000  # 瑞士大麦总产量\n",
        "barley_points = [r for r in results if r[\"crop\"] == \"Barley\"]\n",
        "\n",
        "# 只保留 NDVI 有效的点\n",
        "valid_points = [r for r in barley_points if r[\"ndvi\"] is not None]\n",
        "\n",
        "# 如果没有有效 NDVI，避免除以 0\n",
        "if valid_points:\n",
        "    ndvi_sum = sum(r[\"ndvi\"] for r in valid_points)\n",
        "    for r in valid_points:\n",
        "        r[\"estimated_yield\"] = (r[\"ndvi\"] / ndvi_sum) * total_barley\n",
        "else:\n",
        "    print(\"⚠️ 所有地点 NDVI 都为 None！无法分配产量。\")\n",
        "\n",
        "# 打印结果\n",
        "for r in valid_points:\n",
        "    print(f\"{r['name']}: NDVI={r['ndvi']:.3f}, Estimated Yield={r['estimated_yield']:.1f} t\")\n"
      ],
      "metadata": {
        "id": "f2mEEXCfVUxe"
      },
      "execution_count": null,
      "outputs": []
    }
  ],
  "metadata": {
    "colab": {
      "provenance": []
    },
    "kernelspec": {
      "display_name": "Python 3",
      "name": "python3"
    },
    "widgets": {
      "application/vnd.jupyter.widget-state+json": {
        "93273323cc99451094ad776b738ed390": {
          "model_module": "@jupyter-widgets/controls",
          "model_name": "DropdownModel",
          "model_module_version": "1.5.0",
          "state": {
            "_dom_classes": [],
            "_model_module": "@jupyter-widgets/controls",
            "_model_module_version": "1.5.0",
            "_model_name": "DropdownModel",
            "_options_labels": [
              "Wheat",
              "Barley",
              "Corn",
              "Soybean",
              "Rapeseed",
              "Sunflowerseed"
            ],
            "_view_count": null,
            "_view_module": "@jupyter-widgets/controls",
            "_view_module_version": "1.5.0",
            "_view_name": "DropdownView",
            "description": "Select the crop and check its risk index in 14 days:",
            "description_tooltip": null,
            "disabled": false,
            "index": 0,
            "layout": "IPY_MODEL_a22decf5529e49e5abd30fe16a56bf59",
            "style": "IPY_MODEL_7c843169218d469994227e83233e8336"
          }
        },
        "a22decf5529e49e5abd30fe16a56bf59": {
          "model_module": "@jupyter-widgets/base",
          "model_name": "LayoutModel",
          "model_module_version": "1.2.0",
          "state": {
            "_model_module": "@jupyter-widgets/base",
            "_model_module_version": "1.2.0",
            "_model_name": "LayoutModel",
            "_view_count": null,
            "_view_module": "@jupyter-widgets/base",
            "_view_module_version": "1.2.0",
            "_view_name": "LayoutView",
            "align_content": null,
            "align_items": null,
            "align_self": null,
            "border": null,
            "bottom": null,
            "display": null,
            "flex": null,
            "flex_flow": null,
            "grid_area": null,
            "grid_auto_columns": null,
            "grid_auto_flow": null,
            "grid_auto_rows": null,
            "grid_column": null,
            "grid_gap": null,
            "grid_row": null,
            "grid_template_areas": null,
            "grid_template_columns": null,
            "grid_template_rows": null,
            "height": null,
            "justify_content": null,
            "justify_items": null,
            "left": null,
            "margin": null,
            "max_height": null,
            "max_width": null,
            "min_height": null,
            "min_width": null,
            "object_fit": null,
            "object_position": null,
            "order": null,
            "overflow": null,
            "overflow_x": null,
            "overflow_y": null,
            "padding": null,
            "right": null,
            "top": null,
            "visibility": null,
            "width": null
          }
        },
        "7c843169218d469994227e83233e8336": {
          "model_module": "@jupyter-widgets/controls",
          "model_name": "DescriptionStyleModel",
          "model_module_version": "1.5.0",
          "state": {
            "_model_module": "@jupyter-widgets/controls",
            "_model_module_version": "1.5.0",
            "_model_name": "DescriptionStyleModel",
            "_view_count": null,
            "_view_module": "@jupyter-widgets/base",
            "_view_module_version": "1.2.0",
            "_view_name": "StyleView",
            "description_width": ""
          }
        },
        "79907bfd43cb43b28482c9ee29e164fc": {
          "model_module": "@jupyter-widgets/controls",
          "model_name": "ButtonModel",
          "model_module_version": "1.5.0",
          "state": {
            "_dom_classes": [],
            "_model_module": "@jupyter-widgets/controls",
            "_model_module_version": "1.5.0",
            "_model_name": "ButtonModel",
            "_view_count": null,
            "_view_module": "@jupyter-widgets/controls",
            "_view_module_version": "1.5.0",
            "_view_name": "ButtonView",
            "button_style": "",
            "description": "Confirm Selection",
            "disabled": false,
            "icon": "",
            "layout": "IPY_MODEL_97772bc0d4164fafa45a4d03694a8b51",
            "style": "IPY_MODEL_5ffe93524c374a8ebcdc8b18734841e1",
            "tooltip": ""
          }
        },
        "97772bc0d4164fafa45a4d03694a8b51": {
          "model_module": "@jupyter-widgets/base",
          "model_name": "LayoutModel",
          "model_module_version": "1.2.0",
          "state": {
            "_model_module": "@jupyter-widgets/base",
            "_model_module_version": "1.2.0",
            "_model_name": "LayoutModel",
            "_view_count": null,
            "_view_module": "@jupyter-widgets/base",
            "_view_module_version": "1.2.0",
            "_view_name": "LayoutView",
            "align_content": null,
            "align_items": null,
            "align_self": null,
            "border": null,
            "bottom": null,
            "display": null,
            "flex": null,
            "flex_flow": null,
            "grid_area": null,
            "grid_auto_columns": null,
            "grid_auto_flow": null,
            "grid_auto_rows": null,
            "grid_column": null,
            "grid_gap": null,
            "grid_row": null,
            "grid_template_areas": null,
            "grid_template_columns": null,
            "grid_template_rows": null,
            "height": null,
            "justify_content": null,
            "justify_items": null,
            "left": null,
            "margin": null,
            "max_height": null,
            "max_width": null,
            "min_height": null,
            "min_width": null,
            "object_fit": null,
            "object_position": null,
            "order": null,
            "overflow": null,
            "overflow_x": null,
            "overflow_y": null,
            "padding": null,
            "right": null,
            "top": null,
            "visibility": null,
            "width": null
          }
        },
        "5ffe93524c374a8ebcdc8b18734841e1": {
          "model_module": "@jupyter-widgets/controls",
          "model_name": "ButtonStyleModel",
          "model_module_version": "1.5.0",
          "state": {
            "_model_module": "@jupyter-widgets/controls",
            "_model_module_version": "1.5.0",
            "_model_name": "ButtonStyleModel",
            "_view_count": null,
            "_view_module": "@jupyter-widgets/base",
            "_view_module_version": "1.2.0",
            "_view_name": "StyleView",
            "button_color": null,
            "font_weight": ""
          }
        }
      }
    }
  },
  "nbformat": 4,
  "nbformat_minor": 0
}