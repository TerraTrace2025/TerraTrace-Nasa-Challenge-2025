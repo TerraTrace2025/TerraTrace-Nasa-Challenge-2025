{
  "cells": [
    {
      "cell_type": "code",
      "source": [
        "\"\"\"\n",
        "!pip install geocoder\n",
        "!pip install meteostat\n",
        "!pip install geopandas\n",
        "!pip install osmnx\n",
        "\"\"\""
      ],
      "metadata": {
        "id": "mKJYawx3zPQN",
        "colab": {
          "base_uri": "https://localhost:8080/",
          "height": 36
        },
        "outputId": "261800ae-769e-444e-b964-e858ef6d96db"
      },
      "execution_count": 320,
      "outputs": [
        {
          "output_type": "display_data",
          "data": {
            "text/plain": [
              "<IPython.core.display.HTML object>"
            ],
            "text/html": [
              "\n",
              "            <style>\n",
              "                .geemap-dark {\n",
              "                    --jp-widgets-color: white;\n",
              "                    --jp-widgets-label-color: white;\n",
              "                    --jp-ui-font-color1: white;\n",
              "                    --jp-layout-color2: #454545;\n",
              "                    background-color: #383838;\n",
              "                }\n",
              "\n",
              "                .geemap-dark .jupyter-button {\n",
              "                    --jp-layout-color3: #383838;\n",
              "                }\n",
              "\n",
              "                .geemap-colab {\n",
              "                    background-color: var(--colab-primary-surface-color, white);\n",
              "                }\n",
              "\n",
              "                .geemap-colab .jupyter-button {\n",
              "                    --jp-layout-color3: var(--colab-primary-surface-color, white);\n",
              "                }\n",
              "            </style>\n",
              "            "
            ]
          },
          "metadata": {}
        },
        {
          "output_type": "execute_result",
          "data": {
            "text/plain": [
              "'\\n!pip install geocoder\\n!pip install meteostat\\n!pip install geopandas\\n!pip install osmnx\\n'"
            ],
            "application/vnd.google.colaboratory.intrinsic+json": {
              "type": "string"
            }
          },
          "metadata": {},
          "execution_count": 320
        }
      ]
    },
    {
      "cell_type": "code",
      "source": [
        "import os\n",
        "import requests\n",
        "from datetime import datetime, timedelta, date\n",
        "import pandas as pd\n",
        "from google.colab import files\n",
        "import geocoder\n",
        "from geopy.geocoders import Nominatim\n",
        "from tqdm import tqdm\n",
        "import geopandas as gpd\n",
        "import osmnx as ox\n",
        "from shapely.geometry import Point\n",
        "import tkinter as tk\n",
        "from tkinter import messagebox\n",
        "import ipywidgets as widgets\n",
        "from IPython.display import display\n",
        "from dateutil import parser\n",
        "import ipywidgets as widgets\n",
        "from IPython.display import display\n",
        "from meteostat import Stations, Daily\n",
        "import ee\n",
        "import geemap"
      ],
      "metadata": {
        "id": "BrqH4HEPbUrj",
        "colab": {
          "base_uri": "https://localhost:8080/",
          "height": 17
        },
        "outputId": "d8ef39b2-7aa2-47b1-f234-74c3e72dba70"
      },
      "execution_count": 321,
      "outputs": [
        {
          "output_type": "display_data",
          "data": {
            "text/plain": [
              "<IPython.core.display.HTML object>"
            ],
            "text/html": [
              "\n",
              "            <style>\n",
              "                .geemap-dark {\n",
              "                    --jp-widgets-color: white;\n",
              "                    --jp-widgets-label-color: white;\n",
              "                    --jp-ui-font-color1: white;\n",
              "                    --jp-layout-color2: #454545;\n",
              "                    background-color: #383838;\n",
              "                }\n",
              "\n",
              "                .geemap-dark .jupyter-button {\n",
              "                    --jp-layout-color3: #383838;\n",
              "                }\n",
              "\n",
              "                .geemap-colab {\n",
              "                    background-color: var(--colab-primary-surface-color, white);\n",
              "                }\n",
              "\n",
              "                .geemap-colab .jupyter-button {\n",
              "                    --jp-layout-color3: var(--colab-primary-surface-color, white);\n",
              "                }\n",
              "            </style>\n",
              "            "
            ]
          },
          "metadata": {}
        }
      ]
    },
    {
      "cell_type": "code",
      "source": [
        " N = 14 # we want to see the risk index in the future 7 days\n",
        " year = 2022\n",
        " loc_num= 10"
      ],
      "metadata": {
        "id": "vatZ-q9gCU44",
        "colab": {
          "base_uri": "https://localhost:8080/",
          "height": 17
        },
        "outputId": "399cbf92-6e94-4e18-f46c-019e77dc7729"
      },
      "execution_count": 322,
      "outputs": [
        {
          "output_type": "display_data",
          "data": {
            "text/plain": [
              "<IPython.core.display.HTML object>"
            ],
            "text/html": [
              "\n",
              "            <style>\n",
              "                .geemap-dark {\n",
              "                    --jp-widgets-color: white;\n",
              "                    --jp-widgets-label-color: white;\n",
              "                    --jp-ui-font-color1: white;\n",
              "                    --jp-layout-color2: #454545;\n",
              "                    background-color: #383838;\n",
              "                }\n",
              "\n",
              "                .geemap-dark .jupyter-button {\n",
              "                    --jp-layout-color3: #383838;\n",
              "                }\n",
              "\n",
              "                .geemap-colab {\n",
              "                    background-color: var(--colab-primary-surface-color, white);\n",
              "                }\n",
              "\n",
              "                .geemap-colab .jupyter-button {\n",
              "                    --jp-layout-color3: var(--colab-primary-surface-color, white);\n",
              "                }\n",
              "            </style>\n",
              "            "
            ]
          },
          "metadata": {}
        }
      ]
    },
    {
      "cell_type": "markdown",
      "source": [
        "***Input*** ***1: Crop Information: Names & Locations***"
      ],
      "metadata": {
        "id": "y7lIZ_l5dSBL"
      }
    },
    {
      "cell_type": "code",
      "source": [
        "df = pd.read_excel(\"harvest_locations.xlsx\", skiprows=1)\n",
        "\n",
        "# state_location = df[\"Kt.\"]\n",
        "# origin_location = df[\"Standort\"]\n",
        "crop_names = df.columns[7:].tolist()\n",
        "\n",
        "mapping = {\n",
        "    'Brotweizen': 'Wheat',\n",
        "    'Umstellmahlweizen': 'Wheat',\n",
        "    'Futterweizen': 'Wheat',\n",
        "    'Futtergerste': 'Barley',\n",
        "    'Körnermais': 'Corn',\n",
        "    'Sojabohnen Futter': 'Soybean',\n",
        "    'Sojabohnen \"Tofu\"': 'Soybean',\n",
        "    'Raps Kl.': 'Rapeseed',\n",
        "    'Raps HOLL': 'Rapeseed',\n",
        "    'Sonnenblumen lino': 'Sunflowerseed',\n",
        "    'Sonnenblumen HO': 'Sunflowerseed'\n",
        "}"
      ],
      "metadata": {
        "colab": {
          "base_uri": "https://localhost:8080/",
          "height": 17
        },
        "id": "JE5tO0qME7iw",
        "outputId": "8184f30d-b1fe-4aa9-de79-6bd19862faa6"
      },
      "execution_count": 323,
      "outputs": [
        {
          "output_type": "display_data",
          "data": {
            "text/plain": [
              "<IPython.core.display.HTML object>"
            ],
            "text/html": [
              "\n",
              "            <style>\n",
              "                .geemap-dark {\n",
              "                    --jp-widgets-color: white;\n",
              "                    --jp-widgets-label-color: white;\n",
              "                    --jp-ui-font-color1: white;\n",
              "                    --jp-layout-color2: #454545;\n",
              "                    background-color: #383838;\n",
              "                }\n",
              "\n",
              "                .geemap-dark .jupyter-button {\n",
              "                    --jp-layout-color3: #383838;\n",
              "                }\n",
              "\n",
              "                .geemap-colab {\n",
              "                    background-color: var(--colab-primary-surface-color, white);\n",
              "                }\n",
              "\n",
              "                .geemap-colab .jupyter-button {\n",
              "                    --jp-layout-color3: var(--colab-primary-surface-color, white);\n",
              "                }\n",
              "            </style>\n",
              "            "
            ]
          },
          "metadata": {}
        }
      ]
    },
    {
      "cell_type": "code",
      "source": [
        "swiss_crop = [crop for crop in crop_names if crop in mapping]\n",
        "locations_dict = {}\n",
        "\n",
        "for crop in swiss_crop:\n",
        "    category = mapping[crop]\n",
        "    crop_locations = df.loc[df[crop] == \"x\", \"Standort\"].tolist()\n",
        "    crop_locations = crop_locations[:loc_num]\n",
        "    if category not in locations_dict:\n",
        "        locations_dict[category] = crop_locations\n",
        "    else:\n",
        "        combined = list(dict.fromkeys(locations_dict[category] + crop_locations))\n",
        "        locations_dict[category] = combined[:loc_num]\n",
        "for k, v in locations_dict.items():\n",
        "    print(f\"{k}: {v}\")\n",
        "    print(f\"{k}: {len(v)} locations\")"
      ],
      "metadata": {
        "id": "aLZL5v0vcvpU",
        "colab": {
          "base_uri": "https://localhost:8080/",
          "height": 261
        },
        "outputId": "19ed853d-e2f3-450e-81bc-55f9136cb393"
      },
      "execution_count": 324,
      "outputs": [
        {
          "output_type": "display_data",
          "data": {
            "text/plain": [
              "<IPython.core.display.HTML object>"
            ],
            "text/html": [
              "\n",
              "            <style>\n",
              "                .geemap-dark {\n",
              "                    --jp-widgets-color: white;\n",
              "                    --jp-widgets-label-color: white;\n",
              "                    --jp-ui-font-color1: white;\n",
              "                    --jp-layout-color2: #454545;\n",
              "                    background-color: #383838;\n",
              "                }\n",
              "\n",
              "                .geemap-dark .jupyter-button {\n",
              "                    --jp-layout-color3: #383838;\n",
              "                }\n",
              "\n",
              "                .geemap-colab {\n",
              "                    background-color: var(--colab-primary-surface-color, white);\n",
              "                }\n",
              "\n",
              "                .geemap-colab .jupyter-button {\n",
              "                    --jp-layout-color3: var(--colab-primary-surface-color, white);\n",
              "                }\n",
              "            </style>\n",
              "            "
            ]
          },
          "metadata": {}
        },
        {
          "output_type": "stream",
          "name": "stdout",
          "text": [
            "Wheat: ['5742 Kölliken', '5074 Eiken', '5610 Wohlen', '4800 Zofingen', '3054 Schüpfen', '3076 Worb', '3114 Wichtrach', '3421 Lyssach', '4538 Oberbipp', '4917 Melchnau']\n",
            "Wheat: 10 locations\n",
            "Barley: ['5742 Kölliken', '5074 Eiken', '5610 Wohlen', '4800 Zofingen', '3054 Schüpfen', '3415 Hasle-Rüegsau', '3076 Worb', '3114 Wichtrach', '3421 Lyssach', '4538 Oberbipp']\n",
            "Barley: 10 locations\n",
            "Corn: ['5742 Kölliken', '5074 Eiken', '5610 Wohlen', '3076 Worb', '3315 Bätterkinden', '4538 Oberbipp', '4917 Melchnau', '4950 Huttwil', '3177 Laupen', '3423 Ersigen']\n",
            "Corn: 10 locations\n",
            "Soybean: ['5074 Eiken', '5610 Wohlen', '4800 Zofingen', '3415 Hasle-Rüegsau', '3076 Worb', '4538 Oberbipp', '4917 Melchnau', '4950 Huttwil', '3292 Busswil b. Büren', '3661 Uetendorf']\n",
            "Soybean: 10 locations\n",
            "Rapeseed: ['3076 Worb', '4538 Oberbipp', '4917 Melchnau', '9494 Schaan (FL)', '1784 Courtepin', '2900 Porrentruy', '8560 Märstetten', '1350 Orbe', '1580 Avenches', '8155 Niederhasli']\n",
            "Rapeseed: 10 locations\n",
            "Sunflowerseed: ['5610 Wohlen', '3315 Bätterkinden', '4917 Melchnau', '3177 Laupen', '1242 Satigny', '8560 Märstetten', '3940 Steg', '8460 Marthalen', '5074 Eiken', '3076 Worb']\n",
            "Sunflowerseed: 10 locations\n"
          ]
        }
      ]
    },
    {
      "cell_type": "code",
      "source": [
        "selected_crop = \"\"\n",
        "\n",
        "def confirm_selection(b):\n",
        "    global selected_crop\n",
        "    selected_crop = dropdown.value\n",
        "\n",
        "dropdown = widgets.Dropdown(\n",
        "    options=['Wheat', 'Barley', 'Corn', 'Soybean', 'Rapeseed', 'Sunflowerseed'],\n",
        "    description='Select the crop and check its risk index in {} days:'.format(N)\n",
        ")\n",
        "\n",
        "button = widgets.Button(description=\"Confirm Selection\")\n",
        "button.on_click(confirm_selection)\n",
        "\n",
        "display(dropdown, button)"
      ],
      "metadata": {
        "colab": {
          "base_uri": "https://localhost:8080/",
          "height": 81,
          "referenced_widgets": [
            "d56f77901bac434f99b5a7b72117cde4",
            "8b0d0100e44348ddb5b7ec83cd315671",
            "cf7f62d23d764201af3006375fb6011a",
            "ff1d3fc21e434ff7aec440c3fb059a48",
            "2b5bb19732cb4884a1998f087675017f",
            "10ff1a726329412082f40853059693ab"
          ]
        },
        "id": "CgITwQ1wEAR9",
        "outputId": "0f82f7d6-6861-4b7f-c048-3100487365b4"
      },
      "execution_count": 325,
      "outputs": [
        {
          "output_type": "display_data",
          "data": {
            "text/plain": [
              "<IPython.core.display.HTML object>"
            ],
            "text/html": [
              "\n",
              "            <style>\n",
              "                .geemap-dark {\n",
              "                    --jp-widgets-color: white;\n",
              "                    --jp-widgets-label-color: white;\n",
              "                    --jp-ui-font-color1: white;\n",
              "                    --jp-layout-color2: #454545;\n",
              "                    background-color: #383838;\n",
              "                }\n",
              "\n",
              "                .geemap-dark .jupyter-button {\n",
              "                    --jp-layout-color3: #383838;\n",
              "                }\n",
              "\n",
              "                .geemap-colab {\n",
              "                    background-color: var(--colab-primary-surface-color, white);\n",
              "                }\n",
              "\n",
              "                .geemap-colab .jupyter-button {\n",
              "                    --jp-layout-color3: var(--colab-primary-surface-color, white);\n",
              "                }\n",
              "            </style>\n",
              "            "
            ]
          },
          "metadata": {}
        },
        {
          "output_type": "display_data",
          "data": {
            "text/plain": [
              "Dropdown(description='Select the crop and check its risk index in 14 days:', options=('Wheat', 'Barley', 'Corn…"
            ],
            "application/vnd.jupyter.widget-view+json": {
              "version_major": 2,
              "version_minor": 0,
              "model_id": "d56f77901bac434f99b5a7b72117cde4"
            }
          },
          "metadata": {
            "application/vnd.jupyter.widget-view+json": {
              "colab": {
                "custom_widget_manager": {
                  "url": "https://ssl.gstatic.com/colaboratory-static/widgets/colab-cdn-widget-manager/2b70e893a8ba7c0f/manager.min.js"
                }
              }
            }
          }
        },
        {
          "output_type": "display_data",
          "data": {
            "text/plain": [
              "Button(description='Confirm Selection', style=ButtonStyle())"
            ],
            "application/vnd.jupyter.widget-view+json": {
              "version_major": 2,
              "version_minor": 0,
              "model_id": "ff1d3fc21e434ff7aec440c3fb059a48"
            }
          },
          "metadata": {
            "application/vnd.jupyter.widget-view+json": {
              "colab": {
                "custom_widget_manager": {
                  "url": "https://ssl.gstatic.com/colaboratory-static/widgets/colab-cdn-widget-manager/2b70e893a8ba7c0f/manager.min.js"
                }
              }
            }
          }
        }
      ]
    },
    {
      "cell_type": "code",
      "source": [
        "print(\"Risk in index for\", selected_crop, \"in {} days\".format(N))"
      ],
      "metadata": {
        "colab": {
          "base_uri": "https://localhost:8080/",
          "height": 36
        },
        "id": "o2zW4o9zB74e",
        "outputId": "aabe9abb-68fc-4f4c-a674-aa78e52b6aad"
      },
      "execution_count": 328,
      "outputs": [
        {
          "output_type": "display_data",
          "data": {
            "text/plain": [
              "<IPython.core.display.HTML object>"
            ],
            "text/html": [
              "\n",
              "            <style>\n",
              "                .geemap-dark {\n",
              "                    --jp-widgets-color: white;\n",
              "                    --jp-widgets-label-color: white;\n",
              "                    --jp-ui-font-color1: white;\n",
              "                    --jp-layout-color2: #454545;\n",
              "                    background-color: #383838;\n",
              "                }\n",
              "\n",
              "                .geemap-dark .jupyter-button {\n",
              "                    --jp-layout-color3: #383838;\n",
              "                }\n",
              "\n",
              "                .geemap-colab {\n",
              "                    background-color: var(--colab-primary-surface-color, white);\n",
              "                }\n",
              "\n",
              "                .geemap-colab .jupyter-button {\n",
              "                    --jp-layout-color3: var(--colab-primary-surface-color, white);\n",
              "                }\n",
              "            </style>\n",
              "            "
            ]
          },
          "metadata": {}
        },
        {
          "output_type": "stream",
          "name": "stdout",
          "text": [
            "Risk in index for Wheat in 14 days\n"
          ]
        }
      ]
    },
    {
      "cell_type": "code",
      "source": [
        "geolocator = Nominatim(user_agent=\"geoapi\", timeout=10)\n",
        "\n",
        "cache = {}\n",
        "\n",
        "def clean_location(address):\n",
        "    address = address.replace(\"b.\", \"bei\")\n",
        "    if \"(FL)\" in address:\n",
        "        address = address.replace(\"(FL)\", \"\").strip()\n",
        "        country = \"Liechtenstein\"\n",
        "    else:\n",
        "        country = \"Switzerland\"\n",
        "    return address, country\n",
        "\n",
        "def get_lat_lon_cached(address):\n",
        "    if address in cache:\n",
        "        return cache[address]\n",
        "\n",
        "    try:\n",
        "        clean_addr, country = clean_location(address)\n",
        "        location = geolocator.geocode(f\"{clean_addr}, {country}\")\n",
        "        if location:\n",
        "            result = (location.latitude, location.longitude)\n",
        "        else:\n",
        "            result = (None, None)\n",
        "    except:\n",
        "        result = (None, None)\n",
        "\n",
        "    manual_fix = {\n",
        "        \"3292 Busswil bei Büren\": (47.133, 7.246),\n",
        "        \"9494 Schaan\": (47.166, 9.516)\n",
        "    }\n",
        "    if result == (None, None) and clean_addr in manual_fix:\n",
        "        result = manual_fix[clean_addr]\n",
        "\n",
        "    cache[address] = result\n",
        "    return result\n",
        "\n",
        "print(f\"Processing {selected_crop}...\")\n",
        "\n",
        "coords_list = []\n",
        "for loc in tqdm(locations_dict[selected_crop]):\n",
        "    lat, lon = get_lat_lon_cached(loc)\n",
        "    coords_list.append([loc, lat, lon])\n",
        "\n",
        "selected_crop_loc = pd.DataFrame(coords_list, columns=[\"Standort\", \"Latitude\", \"Longitude\"])\n",
        "\n",
        "print(\" \")\n",
        "print(\"The locations of farms in Switzerland for {}\".format(selected_crop))\n",
        "print(\" \")\n",
        "print(selected_crop_loc)"
      ],
      "metadata": {
        "colab": {
          "base_uri": "https://localhost:8080/",
          "height": 316
        },
        "id": "rBzOmh6Lzu2P",
        "outputId": "560fcff5-ec4e-440e-c021-9b089f9696bd"
      },
      "execution_count": 329,
      "outputs": [
        {
          "output_type": "display_data",
          "data": {
            "text/plain": [
              "<IPython.core.display.HTML object>"
            ],
            "text/html": [
              "\n",
              "            <style>\n",
              "                .geemap-dark {\n",
              "                    --jp-widgets-color: white;\n",
              "                    --jp-widgets-label-color: white;\n",
              "                    --jp-ui-font-color1: white;\n",
              "                    --jp-layout-color2: #454545;\n",
              "                    background-color: #383838;\n",
              "                }\n",
              "\n",
              "                .geemap-dark .jupyter-button {\n",
              "                    --jp-layout-color3: #383838;\n",
              "                }\n",
              "\n",
              "                .geemap-colab {\n",
              "                    background-color: var(--colab-primary-surface-color, white);\n",
              "                }\n",
              "\n",
              "                .geemap-colab .jupyter-button {\n",
              "                    --jp-layout-color3: var(--colab-primary-surface-color, white);\n",
              "                }\n",
              "            </style>\n",
              "            "
            ]
          },
          "metadata": {}
        },
        {
          "output_type": "stream",
          "name": "stdout",
          "text": [
            "Processing Wheat...\n"
          ]
        },
        {
          "output_type": "stream",
          "name": "stderr",
          "text": [
            "100%|██████████| 10/10 [00:09<00:00,  1.03it/s]"
          ]
        },
        {
          "output_type": "stream",
          "name": "stdout",
          "text": [
            " \n",
            "The locations of farms in Switzerland for Wheat\n",
            " \n",
            "         Standort   Latitude  Longitude\n",
            "0   5742 Kölliken  47.334149   8.021650\n",
            "1      5074 Eiken  47.534331   7.987837\n",
            "2     5610 Wohlen  47.350194   8.279049\n",
            "3   4800 Zofingen  47.286283   7.948603\n",
            "4   3054 Schüpfen  47.039854   7.375502\n",
            "5       3076 Worb  46.930236   7.566273\n",
            "6  3114 Wichtrach  46.844390   7.574317\n",
            "7    3421 Lyssach  47.066115   7.581815\n",
            "8   4538 Oberbipp  47.259886   7.662658\n",
            "9   4917 Melchnau  47.181497   7.848776\n"
          ]
        },
        {
          "output_type": "stream",
          "name": "stderr",
          "text": [
            "\n"
          ]
        }
      ]
    },
    {
      "cell_type": "markdown",
      "source": [
        "***Input 2: Climate Data***"
      ],
      "metadata": {
        "id": "Xv0GKbwXdhCP"
      }
    },
    {
      "cell_type": "markdown",
      "source": [
        "* Historical climate data"
      ],
      "metadata": {
        "id": "jmTaC68U2pfz"
      }
    },
    {
      "cell_type": "code",
      "source": [
        "weather_rows = []\n",
        "columns_keep = [\"tavg\", \"tmin\", \"tmax\", \"prcp\", \"snow\", \"wspd\", \"wpgt\"]\n",
        "\n",
        "for idx, row in selected_crop_loc.iterrows():\n",
        "    lat, lon = row[\"Latitude\"], row[\"Longitude\"]\n",
        "    start = datetime(year, 1, 1)\n",
        "    end = datetime(year, 12, 31)\n",
        "    stations = Stations().nearby(lat, lon).fetch(10)\n",
        "    if stations.empty:\n",
        "        print(f\"No stations found for {lat},{lon}\")\n",
        "        continue\n",
        "    station_means = []\n",
        "    for sid in stations.index:\n",
        "        try:\n",
        "            data = Daily(sid, start, end).fetch()\n",
        "            if data.empty:\n",
        "                continue\n",
        "            yearly_mean = data[columns_keep].mean()\n",
        "            station_means.append(yearly_mean)\n",
        "        except Exception as e:\n",
        "            print(f\"Failed for station {sid}: {e}\")\n",
        "    if not station_means:\n",
        "        continue\n",
        "    combined_mean = pd.concat(station_means, axis=1).mean(axis=1, skipna=True)\n",
        "    weather_data = {\n",
        "        \"Standort\": row[\"Standort\"],\n",
        "        \"Latitude\": lat,\n",
        "        \"Longitude\": lon\n",
        "    }\n",
        "    weather_data.update(combined_mean.to_dict())\n",
        "    weather_rows.append(weather_data)\n",
        "    if len(weather_rows) >= loc_num:\n",
        "        break\n",
        "\n",
        "weather_df = pd.DataFrame(weather_rows)\n",
        "if \"snow\" in weather_df.columns:\n",
        "    weather_df[\"snow\"].fillna(0.025, inplace=True)\n",
        "\n",
        "print(weather_df)"
      ],
      "metadata": {
        "colab": {
          "base_uri": "https://localhost:8080/",
          "height": 579
        },
        "id": "L_p8sMZRlPZj",
        "outputId": "2a6e7f4b-baca-407a-c661-b04ea3558287"
      },
      "execution_count": 330,
      "outputs": [
        {
          "output_type": "display_data",
          "data": {
            "text/plain": [
              "<IPython.core.display.HTML object>"
            ],
            "text/html": [
              "\n",
              "            <style>\n",
              "                .geemap-dark {\n",
              "                    --jp-widgets-color: white;\n",
              "                    --jp-widgets-label-color: white;\n",
              "                    --jp-ui-font-color1: white;\n",
              "                    --jp-layout-color2: #454545;\n",
              "                    background-color: #383838;\n",
              "                }\n",
              "\n",
              "                .geemap-dark .jupyter-button {\n",
              "                    --jp-layout-color3: #383838;\n",
              "                }\n",
              "\n",
              "                .geemap-colab {\n",
              "                    background-color: var(--colab-primary-surface-color, white);\n",
              "                }\n",
              "\n",
              "                .geemap-colab .jupyter-button {\n",
              "                    --jp-layout-color3: var(--colab-primary-surface-color, white);\n",
              "                }\n",
              "            </style>\n",
              "            "
            ]
          },
          "metadata": {}
        },
        {
          "output_type": "stream",
          "name": "stdout",
          "text": [
            "         Standort   Latitude  Longitude       tavg      tmin       tmax  \\\n",
            "0   5742 Kölliken  47.334149   8.021650  11.393887  7.236445  15.984835   \n",
            "1      5074 Eiken  47.534331   7.987837  11.448713  7.177498  16.136100   \n",
            "2     5610 Wohlen  47.350194   8.279049  11.155713  7.050572  15.631616   \n",
            "3   4800 Zofingen  47.286283   7.948603  10.993097  6.940142  15.409472   \n",
            "4   3054 Schüpfen  47.039854   7.375502  10.571420  6.475314  15.025539   \n",
            "5       3076 Worb  46.930236   7.566273  10.176488  6.134242  14.610463   \n",
            "6  3114 Wichtrach  46.844390   7.574317  10.098732  6.162995  14.459955   \n",
            "7    3421 Lyssach  47.066115   7.581815  10.346545  6.156621  14.961115   \n",
            "8   4538 Oberbipp  47.259886   7.662658  11.332749  6.945504  16.071547   \n",
            "9   4917 Melchnau  47.181497   7.848776  10.403139  6.388470  14.804644   \n",
            "\n",
            "       prcp       snow      wspd       wpgt  \n",
            "0  2.634247   0.025000  6.782579  25.277526  \n",
            "1  2.909954  20.176152  7.222095  25.520316  \n",
            "2  2.360261   0.197802  7.187400  26.832181  \n",
            "3  2.411644   1.084906  8.103768  28.019193  \n",
            "4  2.919732   0.025000  9.606151  29.593421  \n",
            "5  2.897209   0.025000  7.930527  27.203085  \n",
            "6  3.229121   0.025000  7.713634  26.845829  \n",
            "7  2.897209   0.025000  7.445626  26.203620  \n",
            "8  2.311172   0.619376  6.974824  25.527573  \n",
            "9  2.565297   0.025000  7.605731  26.892975  \n"
          ]
        },
        {
          "output_type": "stream",
          "name": "stderr",
          "text": [
            "FutureWarning: A value is trying to be set on a copy of a DataFrame or Series through chained assignment using an inplace method.\n",
            "The behavior will change in pandas 3.0. This inplace method will never work because the intermediate object on which we are setting values always behaves as a copy.\n",
            "\n",
            "For example, when doing 'df[col].method(value, inplace=True)', try using 'df.method({col: value}, inplace=True)' or df[col] = df[col].method(value) instead, to perform the operation inplace on the original object.\n",
            "\n",
            "\n"
          ]
        }
      ]
    },
    {
      "cell_type": "markdown",
      "source": [
        "***Collection of extrem weather days***"
      ],
      "metadata": {
        "id": "wtmqWGmkQyQD"
      }
    },
    {
      "cell_type": "code",
      "source": [
        "\"\"\"\n",
        "OPEN_METEO_ARCHIVE = \"https://archive-api.open-meteo.com/v1/archive\"\n",
        "\n",
        "THRESH = {\n",
        "    \"heavy_rain_mm\": 50.0,\n",
        "    \"heavy_snow_cm\": 20.0,\n",
        "    \"heatwave_temp_c\": 35.0,\n",
        "    \"strong_wind_ms\": 15.0,\n",
        "    \"extreme_uv_index\": 8.0,\n",
        "    \"dry_day_precip_mm\": 1.0,\n",
        "    \"dry_fraction_for_drought\": 0.8,\n",
        "}\n",
        "\n",
        "def get_yearly_weather_and_extremes(lat, lon, year, thresholds=None, timezone=\"Europe/Zurich\"):\n",
        "    if thresholds is None:\n",
        "        thresholds = THRESH\n",
        "    else:\n",
        "        tmp = THRESH.copy()\n",
        "        tmp.update(thresholds)\n",
        "        thresholds = tmp\n",
        "\n",
        "    start_date = f\"{year}-01-01\"\n",
        "    end_date = f\"{year}-12-31\"\n",
        "\n",
        "    params = {\n",
        "        \"latitude\": lat,\n",
        "        \"longitude\": lon,\n",
        "        \"start_date\": start_date,\n",
        "        \"end_date\": end_date,\n",
        "        \"daily\": \",\".join([\n",
        "            \"temperature_2m_max\",\"temperature_2m_min\",\n",
        "            \"precipitation_sum\",\"snowfall_sum\",\n",
        "            \"wind_speed_10m_max\",\"uv_index_max\"\n",
        "        ]),\n",
        "        \"timezone\": timezone\n",
        "    }\n",
        "\n",
        "    r = requests.get(OPEN_METEO_ARCHIVE, params=params, timeout=30)\n",
        "    r.raise_for_status()\n",
        "    data = r.json()\n",
        "    daily = data.get(\"daily\", {})\n",
        "    if not daily:\n",
        "        raise ValueError(\"Open-Meteo returned no daily data for the given coordinates/year.\")\n",
        "\n",
        "    df = pd.DataFrame(daily)\n",
        "\n",
        "    mean_data = {\n",
        "        \"mean_temperature_2m_max\": df[\"temperature_2m_max\"].mean(),\n",
        "        \"mean_temperature_2m_min\": df[\"temperature_2m_min\"].mean(),\n",
        "        \"mean_precipitation_sum\": df[\"precipitation_sum\"].mean(),\n",
        "        \"mean_snowfall_sum\": df[\"snowfall_sum\"].mean(),\n",
        "        \"mean_wind_speed_10m_max\": df[\"wind_speed_10m_max\"].mean(),\n",
        "        \"mean_uv_index_max\": df[\"uv_index_max\"].mean()\n",
        "    }\n",
        "\n",
        "    df[\"extreme_uv\"] = df[\"uv_index_max\"] >= thresholds[\"extreme_uv_index\"]\n",
        "    df[\"heavy_rain\"] = df[\"precipitation_sum\"] >= thresholds[\"heavy_rain_mm\"]\n",
        "    df[\"heavy_snow\"] = df[\"snowfall_sum\"]/10 >= thresholds[\"heavy_snow_cm\"]  # 转为cm\n",
        "    df[\"extreme_heat\"] = df[\"temperature_2m_max\"] >= thresholds[\"heatwave_temp_c\"]\n",
        "    df[\"strong_wind\"] = df[\"wind_speed_10m_max\"] >= thresholds[\"strong_wind_ms\"]\n",
        "    df[\"dry_day\"] = df[\"precipitation_sum\"] < thresholds[\"dry_day_precip_mm\"]\n",
        "\n",
        "    total_days = len(df)\n",
        "    dry_days = int(df[\"dry_day\"].sum())\n",
        "    dry_fraction = dry_days / total_days if total_days > 0 else None\n",
        "    simple_drought_flag = dry_fraction is not None and dry_fraction >= thresholds[\"dry_fraction_for_drought\"]\n",
        "\n",
        "    extreme_summary = {\n",
        "        \"period_days\": total_days,\n",
        "        \"heavy_rain_days\": int(df[\"heavy_rain\"].sum()),\n",
        "        \"heavy_snow_days\": int(df[\"heavy_snow\"].sum()),\n",
        "        \"extreme_uv_days\": int(df[\"extreme_uv\"].sum()),\n",
        "        \"extreme_heat_days\": int(df[\"extreme_heat\"].sum()),\n",
        "        \"strong_wind_days\": int(df[\"strong_wind\"].sum()),\n",
        "        \"dry_days\": dry_days,\n",
        "        \"dry_fraction\": dry_fraction,\n",
        "        \"simple_drought_detected\": bool(simple_drought_flag)\n",
        "    }\n",
        "\n",
        "    result = {**mean_data, **extreme_summary}\n",
        "    return result\n",
        "\n",
        "summary_rows = []\n",
        "for idx, row in selected_crop_loc.iterrows():\n",
        "    try:\n",
        "        weather_summary = get_yearly_weather_and_extremes(\n",
        "            lat=row[\"Latitude\"], lon=row[\"Longitude\"], year=year\n",
        "        )\n",
        "        row_data = {\n",
        "            \"Standort\": row[\"Standort\"],\n",
        "            \"Latitude\": row[\"Latitude\"],\n",
        "            \"Longitude\": row[\"Longitude\"]\n",
        "        }\n",
        "        row_data.update(weather_summary)\n",
        "        summary_rows.append(row_data)\n",
        "        time.sleep(1)\n",
        "    except requests.exceptions.HTTPError as e:\n",
        "        print(f\"Request failed for {row['Standort']}: {e}\")\n",
        "        time.sleep(1)\n",
        "\n",
        "extreme_weather_df = pd.DataFrame(summary_rows)\n",
        "print(extreme_weather_df)\n",
        "\"\"\""
      ],
      "metadata": {
        "colab": {
          "base_uri": "https://localhost:8080/",
          "height": 129
        },
        "id": "kPVKPgzIzKX5",
        "outputId": "62d3d407-b44d-4610-9cd8-65b24f57fc54"
      },
      "execution_count": 331,
      "outputs": [
        {
          "output_type": "display_data",
          "data": {
            "text/plain": [
              "<IPython.core.display.HTML object>"
            ],
            "text/html": [
              "\n",
              "            <style>\n",
              "                .geemap-dark {\n",
              "                    --jp-widgets-color: white;\n",
              "                    --jp-widgets-label-color: white;\n",
              "                    --jp-ui-font-color1: white;\n",
              "                    --jp-layout-color2: #454545;\n",
              "                    background-color: #383838;\n",
              "                }\n",
              "\n",
              "                .geemap-dark .jupyter-button {\n",
              "                    --jp-layout-color3: #383838;\n",
              "                }\n",
              "\n",
              "                .geemap-colab {\n",
              "                    background-color: var(--colab-primary-surface-color, white);\n",
              "                }\n",
              "\n",
              "                .geemap-colab .jupyter-button {\n",
              "                    --jp-layout-color3: var(--colab-primary-surface-color, white);\n",
              "                }\n",
              "            </style>\n",
              "            "
            ]
          },
          "metadata": {}
        },
        {
          "output_type": "execute_result",
          "data": {
            "text/plain": [
              "'\\nOPEN_METEO_ARCHIVE = \"https://archive-api.open-meteo.com/v1/archive\"\\n\\nTHRESH = {\\n    \"heavy_rain_mm\": 50.0,\\n    \"heavy_snow_cm\": 20.0,\\n    \"heatwave_temp_c\": 35.0,\\n    \"strong_wind_ms\": 15.0,\\n    \"extreme_uv_index\": 8.0,\\n    \"dry_day_precip_mm\": 1.0,\\n    \"dry_fraction_for_drought\": 0.8,\\n}\\n\\ndef get_yearly_weather_and_extremes(lat, lon, year, thresholds=None, timezone=\"Europe/Zurich\"):\\n    if thresholds is None:\\n        thresholds = THRESH\\n    else:\\n        tmp = THRESH.copy()\\n        tmp.update(thresholds)\\n        thresholds = tmp\\n\\n    start_date = f\"{year}-01-01\"\\n    end_date = f\"{year}-12-31\"\\n\\n    params = {\\n        \"latitude\": lat,\\n        \"longitude\": lon,\\n        \"start_date\": start_date,\\n        \"end_date\": end_date,\\n        \"daily\": \",\".join([\\n            \"temperature_2m_max\",\"temperature_2m_min\",\\n            \"precipitation_sum\",\"snowfall_sum\",\\n            \"wind_speed_10m_max\",\"uv_index_max\"\\n        ]),\\n        \"timezone\": timezone\\n    }\\n\\n    r = requests.get(OPEN_METEO_ARCHIVE, params=params, timeout=30)\\n    r.raise_for_status()\\n    data = r.json()\\n    daily = data.get(\"daily\", {})\\n    if not daily:\\n        raise ValueError(\"Open-Meteo returned no daily data for the given coordinates/year.\")\\n\\n    df = pd.DataFrame(daily)\\n\\n    mean_data = {\\n        \"mean_temperature_2m_max\": df[\"temperature_2m_max\"].mean(),\\n        \"mean_temperature_2m_min\": df[\"temperature_2m_min\"].mean(),\\n        \"mean_precipitation_sum\": df[\"precipitation_sum\"].mean(),\\n        \"mean_snowfall_sum\": df[\"snowfall_sum\"].mean(),\\n        \"mean_wind_speed_10m_max\": df[\"wind_speed_10m_max\"].mean(),\\n        \"mean_uv_index_max\": df[\"uv_index_max\"].mean()\\n    }\\n\\n    df[\"extreme_uv\"] = df[\"uv_index_max\"] >= thresholds[\"extreme_uv_index\"]\\n    df[\"heavy_rain\"] = df[\"precipitation_sum\"] >= thresholds[\"heavy_rain_mm\"]\\n    df[\"heavy_snow\"] = df[\"snowfall_sum\"]/10 >= thresholds[\"heavy_snow_cm\"]  # 转为cm\\n    df[\"extreme_heat\"] = df[\"temperature_2m_max\"] >= thresholds[\"heatwave_temp_c\"]\\n    df[\"strong_wind\"] = df[\"wind_speed_10m_max\"] >= thresholds[\"strong_wind_ms\"]\\n    df[\"dry_day\"] = df[\"precipitation_sum\"] < thresholds[\"dry_day_precip_mm\"]\\n\\n    total_days = len(df)\\n    dry_days = int(df[\"dry_day\"].sum())\\n    dry_fraction = dry_days / total_days if total_days > 0 else None\\n    simple_drought_flag = dry_fraction is not None and dry_fraction >= thresholds[\"dry_fraction_for_drought\"]\\n\\n    extreme_summary = {\\n        \"period_days\": total_days,\\n        \"heavy_rain_days\": int(df[\"heavy_rain\"].sum()),\\n        \"heavy_snow_days\": int(df[\"heavy_snow\"].sum()),\\n        \"extreme_uv_days\": int(df[\"extreme_uv\"].sum()),\\n        \"extreme_heat_days\": int(df[\"extreme_heat\"].sum()),\\n        \"strong_wind_days\": int(df[\"strong_wind\"].sum()),\\n        \"dry_days\": dry_days,\\n        \"dry_fraction\": dry_fraction,\\n        \"simple_drought_detected\": bool(simple_drought_flag)\\n    }\\n\\n    result = {**mean_data, **extreme_summary}\\n    return result\\n\\nsummary_rows = []\\nfor idx, row in selected_crop_loc.iterrows():\\n    try:\\n        weather_summary = get_yearly_weather_and_extremes(\\n            lat=row[\"Latitude\"], lon=row[\"Longitude\"], year=year\\n        )\\n        row_data = {\\n            \"Standort\": row[\"Standort\"],\\n            \"Latitude\": row[\"Latitude\"],\\n            \"Longitude\": row[\"Longitude\"]\\n        }\\n        row_data.update(weather_summary)\\n        summary_rows.append(row_data)\\n        time.sleep(1)\\n    except requests.exceptions.HTTPError as e:\\n        print(f\"Request failed for {row[\\'Standort\\']}: {e}\")\\n        time.sleep(1)\\n\\nextreme_weather_df = pd.DataFrame(summary_rows)\\nprint(extreme_weather_df)\\n'"
            ],
            "application/vnd.google.colaboratory.intrinsic+json": {
              "type": "string"
            }
          },
          "metadata": {},
          "execution_count": 331
        }
      ]
    },
    {
      "cell_type": "markdown",
      "source": [
        "***Weather forecast in the future N days***"
      ],
      "metadata": {
        "id": "87FauS9nHzuL"
      }
    },
    {
      "cell_type": "code",
      "source": [
        "FORECAST_URL = \"https://api.open-meteo.com/v1/forecast\"\n",
        "OPEN_METEO_FORECAST = \"https://api.open-meteo.com/v1/forecast\"\n",
        "\n",
        "def get_forecast_weather(latitude, longitude, n_days):\n",
        "    start_date = date.today()\n",
        "    end_date = start_date + timedelta(days=n_days - 1)\n",
        "\n",
        "    daily_vars = [\n",
        "        \"temperature_2m_max\",\"temperature_2m_min\",\n",
        "        \"precipitation_sum\",\"windspeed_10m_max\",\n",
        "        \"weathercode\",\"snowfall_sum\"\n",
        "    ]\n",
        "\n",
        "    params = {\n",
        "        \"latitude\": latitude,\n",
        "        \"longitude\": longitude,\n",
        "        \"daily\": \",\".join(daily_vars),\n",
        "        \"start_date\": start_date.isoformat(),\n",
        "        \"end_date\": end_date.isoformat(),\n",
        "        \"timezone\": \"Europe/Zurich\"\n",
        "    }\n",
        "\n",
        "    resp = requests.get(FORECAST_URL, params=params, timeout=30)\n",
        "    resp.raise_for_status()\n",
        "\n",
        "    df = pd.DataFrame(resp.json()[\"daily\"])\n",
        "    df[\"time\"] = pd.to_datetime(df[\"time\"]).dt.date\n",
        "    def code_to_simple(wc, precip, wind, snow):\n",
        "        if snow > 0:\n",
        "            return \"snow\"\n",
        "        elif precip > 5:\n",
        "            return \"rain\"\n",
        "        elif precip > 0 and wind > 10:\n",
        "            return \"showers/windy\"\n",
        "        elif wc in [0,1,2]:  # clear/sunny\n",
        "            return \"sunny\"\n",
        "        else:\n",
        "            return \"cloudy\"\n",
        "\n",
        "    df[\"weather_simple\"] = df.apply(\n",
        "        lambda row: code_to_simple(\n",
        "            row[\"weathercode\"],\n",
        "            row[\"precipitation_sum\"],\n",
        "            row[\"windspeed_10m_max\"],\n",
        "            row.get(\"snowfall_sum\", 0)\n",
        "        ),\n",
        "        axis=1\n",
        "    )\n",
        "\n",
        "    return df"
      ],
      "metadata": {
        "id": "Ea9qeqjfGTIi",
        "colab": {
          "base_uri": "https://localhost:8080/",
          "height": 17
        },
        "outputId": "c7e2e2c2-a207-44c7-ebbe-b14d23359e6d"
      },
      "execution_count": 332,
      "outputs": [
        {
          "output_type": "display_data",
          "data": {
            "text/plain": [
              "<IPython.core.display.HTML object>"
            ],
            "text/html": [
              "\n",
              "            <style>\n",
              "                .geemap-dark {\n",
              "                    --jp-widgets-color: white;\n",
              "                    --jp-widgets-label-color: white;\n",
              "                    --jp-ui-font-color1: white;\n",
              "                    --jp-layout-color2: #454545;\n",
              "                    background-color: #383838;\n",
              "                }\n",
              "\n",
              "                .geemap-dark .jupyter-button {\n",
              "                    --jp-layout-color3: #383838;\n",
              "                }\n",
              "\n",
              "                .geemap-colab {\n",
              "                    background-color: var(--colab-primary-surface-color, white);\n",
              "                }\n",
              "\n",
              "                .geemap-colab .jupyter-button {\n",
              "                    --jp-layout-color3: var(--colab-primary-surface-color, white);\n",
              "                }\n",
              "            </style>\n",
              "            "
            ]
          },
          "metadata": {}
        }
      ]
    },
    {
      "cell_type": "code",
      "source": [
        "THRESHOLDS = {\n",
        "    \"heatwave_temp_c\": 35.0,\n",
        "    \"strong_wind_ms\": 15.0,\n",
        "    \"heavy_rain_mm\": 50.0,\n",
        "    \"heavy_snow_cm\": 20.0\n",
        "}\n",
        "\n",
        "def extreme_weather_alert(lat, lon, n_days=N, timezone=\"Europe/Zurich\"):\n",
        "    start_date = date.today()\n",
        "    end_date = start_date + timedelta(days=n_days-1)\n",
        "\n",
        "    params = {\n",
        "        \"latitude\": lat,\n",
        "        \"longitude\": lon,\n",
        "        \"daily\": \"temperature_2m_max,precipitation_sum,snowfall_sum,windspeed_10m_max\",\n",
        "        \"start_date\": start_date.isoformat(),\n",
        "        \"end_date\": end_date.isoformat(),\n",
        "        \"timezone\": timezone\n",
        "    }\n",
        "\n",
        "    resp = requests.get(OPEN_METEO_FORECAST, params=params)\n",
        "    resp.raise_for_status()\n",
        "    data = resp.json()\n",
        "\n",
        "    df = pd.DataFrame(data[\"daily\"])\n",
        "\n",
        "    alerts = []\n",
        "    for i, row in df.iterrows():\n",
        "        msg = []\n",
        "        if row[\"temperature_2m_max\"] >= THRESHOLDS[\"heatwave_temp_c\"]:\n",
        "            msg.append(\"🔥 Heatwave\")\n",
        "        if row[\"windspeed_10m_max\"] >= THRESHOLDS[\"strong_wind_ms\"]:\n",
        "            msg.append(\"💨 Strong wind\")\n",
        "        if row[\"precipitation_sum\"] >= THRESHOLDS[\"heavy_rain_mm\"]:\n",
        "            msg.append(\"🌧️ Heavy rain\")\n",
        "        if (row[\"snowfall_sum\"] / 10.0) >= THRESHOLDS[\"heavy_snow_cm\"]:  # mm→cm\n",
        "            msg.append(\"❄️ Heavy snow\")\n",
        "\n",
        "        alerts.append(\", \".join(msg) if msg else \"😃 NA\")\n",
        "\n",
        "    df[\"extreme_alert\"] = alerts\n",
        "    return df"
      ],
      "metadata": {
        "colab": {
          "base_uri": "https://localhost:8080/",
          "height": 17
        },
        "id": "4Ezlc_EAL8Ih",
        "outputId": "2d4392ac-951a-4911-aeea-b1bc2605082e"
      },
      "execution_count": 333,
      "outputs": [
        {
          "output_type": "display_data",
          "data": {
            "text/plain": [
              "<IPython.core.display.HTML object>"
            ],
            "text/html": [
              "\n",
              "            <style>\n",
              "                .geemap-dark {\n",
              "                    --jp-widgets-color: white;\n",
              "                    --jp-widgets-label-color: white;\n",
              "                    --jp-ui-font-color1: white;\n",
              "                    --jp-layout-color2: #454545;\n",
              "                    background-color: #383838;\n",
              "                }\n",
              "\n",
              "                .geemap-dark .jupyter-button {\n",
              "                    --jp-layout-color3: #383838;\n",
              "                }\n",
              "\n",
              "                .geemap-colab {\n",
              "                    background-color: var(--colab-primary-surface-color, white);\n",
              "                }\n",
              "\n",
              "                .geemap-colab .jupyter-button {\n",
              "                    --jp-layout-color3: var(--colab-primary-surface-color, white);\n",
              "                }\n",
              "            </style>\n",
              "            "
            ]
          },
          "metadata": {}
        }
      ]
    },
    {
      "cell_type": "code",
      "source": [
        "forecast_rows = []\n",
        "for idx, row in selected_crop_loc.iterrows():\n",
        "    lat, lon = row[\"Latitude\"], row[\"Longitude\"]\n",
        "    standort = row[\"Standort\"]\n",
        "    try:\n",
        "        df_forecast = get_forecast_weather(lat, lon, N)\n",
        "        df_alert = extreme_weather_alert(lat, lon, N)\n",
        "        df_merged = pd.merge(df_forecast, df_alert[[\"time\", \"extreme_alert\"]], on=\"time\", how=\"left\")\n",
        "        df_merged[\"Standort\"] = standort\n",
        "        df_merged[\"Latitude\"] = lat\n",
        "        df_merged[\"Longitude\"] = lon\n",
        "        forecast_rows.append(df_merged)\n",
        "        time.sleep(1)\n",
        "    except Exception as e:\n",
        "        print(f\"Forecast failed for {standort}: {e}\")\n",
        "        time.sleep(1)\n",
        "\n",
        "forecast_all = pd.concat(forecast_rows, ignore_index=True)\n",
        "forecast_all = forecast_all.drop(columns=[\"Latitude\", \"Longitude\", \"weathercode\"])\n",
        "cols = [\"Standort\"] + [c for c in forecast_all.columns if c != \"Standort\"]\n",
        "forecast_all = forecast_all[cols]"
      ],
      "metadata": {
        "colab": {
          "base_uri": "https://localhost:8080/",
          "height": 765
        },
        "id": "fUIBwhCfNimo",
        "outputId": "b025d42e-d89f-426a-fb63-23836b31d2c9"
      },
      "execution_count": 334,
      "outputs": [
        {
          "output_type": "display_data",
          "data": {
            "text/plain": [
              "<IPython.core.display.HTML object>"
            ],
            "text/html": [
              "\n",
              "            <style>\n",
              "                .geemap-dark {\n",
              "                    --jp-widgets-color: white;\n",
              "                    --jp-widgets-label-color: white;\n",
              "                    --jp-ui-font-color1: white;\n",
              "                    --jp-layout-color2: #454545;\n",
              "                    background-color: #383838;\n",
              "                }\n",
              "\n",
              "                .geemap-dark .jupyter-button {\n",
              "                    --jp-layout-color3: #383838;\n",
              "                }\n",
              "\n",
              "                .geemap-colab {\n",
              "                    background-color: var(--colab-primary-surface-color, white);\n",
              "                }\n",
              "\n",
              "                .geemap-colab .jupyter-button {\n",
              "                    --jp-layout-color3: var(--colab-primary-surface-color, white);\n",
              "                }\n",
              "            </style>\n",
              "            "
            ]
          },
          "metadata": {}
        },
        {
          "output_type": "stream",
          "name": "stdout",
          "text": [
            "          Standort        time  temperature_2m_max  temperature_2m_min  \\\n",
            "0    5742 Kölliken  2025-10-03                11.9                 1.9   \n",
            "1    5742 Kölliken  2025-10-04                15.9                 8.9   \n",
            "2    5742 Kölliken  2025-10-05                11.2                 6.9   \n",
            "3    5742 Kölliken  2025-10-06                13.1                 8.1   \n",
            "4    5742 Kölliken  2025-10-07                17.3                 6.9   \n",
            "..             ...         ...                 ...                 ...   \n",
            "135  4917 Melchnau  2025-10-12                20.1                10.8   \n",
            "136  4917 Melchnau  2025-10-13                18.6                 9.8   \n",
            "137  4917 Melchnau  2025-10-14                12.3                 7.7   \n",
            "138  4917 Melchnau  2025-10-15                 7.7                 6.8   \n",
            "139  4917 Melchnau  2025-10-16                 8.3                 6.5   \n",
            "\n",
            "     precipitation_sum  windspeed_10m_max  snowfall_sum weather_simple  \\\n",
            "0                  0.0                5.9           0.0         cloudy   \n",
            "1                  5.9               25.3           0.0           rain   \n",
            "2                  4.8               17.0           0.0  showers/windy   \n",
            "3                  0.2               10.5           0.0  showers/windy   \n",
            "4                  0.0               11.7           0.0         cloudy   \n",
            "..                 ...                ...           ...            ...   \n",
            "135                0.0                5.4           0.0         cloudy   \n",
            "136                2.4               11.3           0.0  showers/windy   \n",
            "137                4.5               12.7           0.0  showers/windy   \n",
            "138                2.1               16.4           0.0  showers/windy   \n",
            "139                1.5               11.5           0.0  showers/windy   \n",
            "\n",
            "    extreme_alert  \n",
            "0             NaN  \n",
            "1             NaN  \n",
            "2             NaN  \n",
            "3             NaN  \n",
            "4             NaN  \n",
            "..            ...  \n",
            "135           NaN  \n",
            "136           NaN  \n",
            "137           NaN  \n",
            "138           NaN  \n",
            "139           NaN  \n",
            "\n",
            "[140 rows x 9 columns]\n"
          ]
        }
      ]
    },
    {
      "cell_type": "markdown",
      "source": [
        "***Input 3: Yield Data (Optional but Recommended)***"
      ],
      "metadata": {
        "id": "iZOJQ2-h21k5"
      }
    },
    {
      "cell_type": "code",
      "source": [
        "df = pd.read_csv(\"FAOSTAT_data.csv\")\n",
        "\n",
        "mapping = {\n",
        "    \"Wheat\": \"Wheat\",\n",
        "    \"Barley\": \"Barley\",\n",
        "    \"Maize (corn)\": \"Corn\",\n",
        "    \"Green corn (maize)\": \"Corn\",\n",
        "    \"Corn\": \"Corn\",\n",
        "    \"Soya beans\": \"Soya\",\n",
        "    \"Soya bean oil\": \"Soya\",\n",
        "    \"Rapeseed or canola oil, crude\": \"Rapeseed\",\n",
        "    \"Sunflower seed\": \"Sunflower\",\n",
        "    \"Sunflower-seed oil, crude\": \"Sunflower\",\n",
        "    \"Beer of barley, malted\": \"Barley\"\n",
        "}\n",
        "\n",
        "\n",
        "keywords = [\"Wheat\", \"Barley\", \"Corn\", \"Soya\", \"Rapeseed\", \"Sunflower\"]\n",
        "mask = df[\"Item\"].str.contains('|'.join(keywords), case=False, na=False)\n",
        "df_filtered = df[mask]\n",
        "\n",
        "columns_to_keep = [\"Area\", \"Item\", \"Year\", \"Unit\", \"Value\"]\n",
        "df_filtered = df_filtered[columns_to_keep]\n",
        "\n",
        "df_filtered_t = df_filtered[df_filtered[\"Unit\"] == \"t\"].copy()\n",
        "\n",
        "df_filtered_t[\"Item_clean\"] = df_filtered_t[\"Item\"].map(mapping)\n",
        "\n",
        "df_final = df_filtered_t.groupby([\"Year\", \"Item_clean\"], as_index=False)[\"Value\"].sum()\n",
        "value_row = df_final[(df_final[\"Year\"] == year) & (df_final[\"Item_clean\"] == selected_crop)]\n",
        "value = value_row[\"Value\"].iloc[0]\n",
        "print(value)\n"
      ],
      "metadata": {
        "id": "44_cDayPI2DZ",
        "colab": {
          "base_uri": "https://localhost:8080/",
          "height": 36
        },
        "outputId": "2639ea62-bf8b-48b1-c926-043cd549cdb9"
      },
      "execution_count": 340,
      "outputs": [
        {
          "output_type": "display_data",
          "data": {
            "text/plain": [
              "<IPython.core.display.HTML object>"
            ],
            "text/html": [
              "\n",
              "            <style>\n",
              "                .geemap-dark {\n",
              "                    --jp-widgets-color: white;\n",
              "                    --jp-widgets-label-color: white;\n",
              "                    --jp-ui-font-color1: white;\n",
              "                    --jp-layout-color2: #454545;\n",
              "                    background-color: #383838;\n",
              "                }\n",
              "\n",
              "                .geemap-dark .jupyter-button {\n",
              "                    --jp-layout-color3: #383838;\n",
              "                }\n",
              "\n",
              "                .geemap-colab {\n",
              "                    background-color: var(--colab-primary-surface-color, white);\n",
              "                }\n",
              "\n",
              "                .geemap-colab .jupyter-button {\n",
              "                    --jp-layout-color3: var(--colab-primary-surface-color, white);\n",
              "                }\n",
              "            </style>\n",
              "            "
            ]
          },
          "metadata": {}
        },
        {
          "output_type": "stream",
          "name": "stdout",
          "text": [
            "486667.0\n"
          ]
        }
      ]
    },
    {
      "cell_type": "markdown",
      "source": [
        "***Input 4: Administrative or grid boundaries (crop location)***\n"
      ],
      "metadata": {
        "id": "orfsE2RWGiFs"
      }
    },
    {
      "cell_type": "code",
      "source": [
        "ee.Authenticate()\n",
        "ee.Initialize(project='trusty-sentinel-473919-a6')\n",
        "\n",
        "def compute_ndvi_df(selected_crop_loc, selected_crop, year, total_yield=value, buffer_m=500):\n",
        "    \"\"\"\n",
        "    selected_crop_loc: pd.DataFrame with columns Standort, Latitude, Longitude\n",
        "    selected_crop: str, e.g., \"Corn\"\n",
        "    year: int\n",
        "    total_yield: float, total yield for this crop\n",
        "    buffer_m: int, buffer in meters for NDVI averaging\n",
        "    Returns: pd.DataFrame with Standort, crop, ndvi, estimated_yield\n",
        "    \"\"\"\n",
        "    start_date = f\"{year}-01-01\"\n",
        "    end_date = f\"{year}-12-31\"\n",
        "\n",
        "    all_points = ee.Geometry.MultiPoint([[row[\"Longitude\"], row[\"Latitude\"]] for idx, row in selected_crop_loc.iterrows()])\n",
        "\n",
        "    collection = (ee.ImageCollection(\"COPERNICUS/S2_SR_HARMONIZED\")\n",
        "                  .filterDate(start_date, end_date)\n",
        "                  .filterBounds(all_points)\n",
        "                  .map(lambda img: img.normalizedDifference(['B8', 'B4']).rename('NDVI')))\n",
        "\n",
        "    results = []\n",
        "    for idx, row in selected_crop_loc.iterrows():\n",
        "        point = ee.Geometry.Point([row[\"Longitude\"], row[\"Latitude\"]])\n",
        "        ndvi_ts = collection.mean().reduceRegion(\n",
        "            reducer=ee.Reducer.mean(),\n",
        "            geometry=point.buffer(buffer_m),\n",
        "            scale=10\n",
        "        )\n",
        "        ndvi_value = ndvi_ts.get(\"NDVI\").getInfo()\n",
        "        results.append({\n",
        "            \"Standort\": row[\"Standort\"],\n",
        "            \"crop\": selected_crop,\n",
        "            \"ndvi\": ndvi_value\n",
        "        })\n",
        "\n",
        "    valid_points = [r for r in results if r[\"ndvi\"] is not None]\n",
        "    if valid_points:\n",
        "        ndvi_sum = sum(r[\"ndvi\"] for r in valid_points)\n",
        "        for r in valid_points:\n",
        "            r[\"estimated_yield\"] = (r[\"ndvi\"] / ndvi_sum) * total_yield\n",
        "    else:\n",
        "        print(\"⚠️ All NDVI values are None!\")\n",
        "\n",
        "    return pd.DataFrame(results)"
      ],
      "metadata": {
        "colab": {
          "base_uri": "https://localhost:8080/",
          "height": 17
        },
        "id": "a_akxRpdSIM2",
        "outputId": "b5ae17da-4886-4e39-8d65-55616fc31279"
      },
      "execution_count": 336,
      "outputs": [
        {
          "output_type": "display_data",
          "data": {
            "text/plain": [
              "<IPython.core.display.HTML object>"
            ],
            "text/html": [
              "\n",
              "            <style>\n",
              "                .geemap-dark {\n",
              "                    --jp-widgets-color: white;\n",
              "                    --jp-widgets-label-color: white;\n",
              "                    --jp-ui-font-color1: white;\n",
              "                    --jp-layout-color2: #454545;\n",
              "                    background-color: #383838;\n",
              "                }\n",
              "\n",
              "                .geemap-dark .jupyter-button {\n",
              "                    --jp-layout-color3: #383838;\n",
              "                }\n",
              "\n",
              "                .geemap-colab {\n",
              "                    background-color: var(--colab-primary-surface-color, white);\n",
              "                }\n",
              "\n",
              "                .geemap-colab .jupyter-button {\n",
              "                    --jp-layout-color3: var(--colab-primary-surface-color, white);\n",
              "                }\n",
              "            </style>\n",
              "            "
            ]
          },
          "metadata": {}
        }
      ]
    },
    {
      "cell_type": "code",
      "source": [
        "df_ndvi = compute_ndvi_df(selected_crop_loc, selected_crop, year=year, total_yield=value)\n",
        "print(df_ndvi)"
      ],
      "metadata": {
        "colab": {
          "base_uri": "https://localhost:8080/",
          "height": 223
        },
        "id": "Ta0NG8_YS4Ey",
        "outputId": "2d3a70da-5a72-4420-889d-91b766126fb8"
      },
      "execution_count": 341,
      "outputs": [
        {
          "output_type": "display_data",
          "data": {
            "text/plain": [
              "<IPython.core.display.HTML object>"
            ],
            "text/html": [
              "\n",
              "            <style>\n",
              "                .geemap-dark {\n",
              "                    --jp-widgets-color: white;\n",
              "                    --jp-widgets-label-color: white;\n",
              "                    --jp-ui-font-color1: white;\n",
              "                    --jp-layout-color2: #454545;\n",
              "                    background-color: #383838;\n",
              "                }\n",
              "\n",
              "                .geemap-dark .jupyter-button {\n",
              "                    --jp-layout-color3: #383838;\n",
              "                }\n",
              "\n",
              "                .geemap-colab {\n",
              "                    background-color: var(--colab-primary-surface-color, white);\n",
              "                }\n",
              "\n",
              "                .geemap-colab .jupyter-button {\n",
              "                    --jp-layout-color3: var(--colab-primary-surface-color, white);\n",
              "                }\n",
              "            </style>\n",
              "            "
            ]
          },
          "metadata": {}
        },
        {
          "output_type": "stream",
          "name": "stdout",
          "text": [
            "         Standort   crop      ndvi  estimated_yield\n",
            "0   5742 Kölliken  Wheat  0.298157     47586.062955\n",
            "1      5074 Eiken  Wheat  0.306039     48843.926460\n",
            "2     5610 Wohlen  Wheat  0.237234     37862.723316\n",
            "3   4800 Zofingen  Wheat  0.268091     42787.447475\n",
            "4   3054 Schüpfen  Wheat  0.338790     54071.141344\n",
            "5       3076 Worb  Wheat  0.305803     48806.397113\n",
            "6  3114 Wichtrach  Wheat  0.326623     52129.164765\n",
            "7    3421 Lyssach  Wheat  0.344075     54914.627045\n",
            "8   4538 Oberbipp  Wheat  0.284338     45380.573692\n",
            "9   4917 Melchnau  Wheat  0.340130     54284.935835\n"
          ]
        }
      ]
    },
    {
      "cell_type": "markdown",
      "source": [],
      "metadata": {
        "id": "Ky7XficUZKjG"
      }
    }
  ],
  "metadata": {
    "colab": {
      "provenance": []
    },
    "kernelspec": {
      "display_name": "Python 3",
      "name": "python3"
    },
    "widgets": {
      "application/vnd.jupyter.widget-state+json": {
        "d56f77901bac434f99b5a7b72117cde4": {
          "model_module": "@jupyter-widgets/controls",
          "model_name": "DropdownModel",
          "model_module_version": "1.5.0",
          "state": {
            "_dom_classes": [],
            "_model_module": "@jupyter-widgets/controls",
            "_model_module_version": "1.5.0",
            "_model_name": "DropdownModel",
            "_options_labels": [
              "Wheat",
              "Barley",
              "Corn",
              "Soybean",
              "Rapeseed",
              "Sunflowerseed"
            ],
            "_view_count": null,
            "_view_module": "@jupyter-widgets/controls",
            "_view_module_version": "1.5.0",
            "_view_name": "DropdownView",
            "description": "Select the crop and check its risk index in 14 days:",
            "description_tooltip": null,
            "disabled": false,
            "index": 0,
            "layout": "IPY_MODEL_8b0d0100e44348ddb5b7ec83cd315671",
            "style": "IPY_MODEL_cf7f62d23d764201af3006375fb6011a"
          }
        },
        "8b0d0100e44348ddb5b7ec83cd315671": {
          "model_module": "@jupyter-widgets/base",
          "model_name": "LayoutModel",
          "model_module_version": "1.2.0",
          "state": {
            "_model_module": "@jupyter-widgets/base",
            "_model_module_version": "1.2.0",
            "_model_name": "LayoutModel",
            "_view_count": null,
            "_view_module": "@jupyter-widgets/base",
            "_view_module_version": "1.2.0",
            "_view_name": "LayoutView",
            "align_content": null,
            "align_items": null,
            "align_self": null,
            "border": null,
            "bottom": null,
            "display": null,
            "flex": null,
            "flex_flow": null,
            "grid_area": null,
            "grid_auto_columns": null,
            "grid_auto_flow": null,
            "grid_auto_rows": null,
            "grid_column": null,
            "grid_gap": null,
            "grid_row": null,
            "grid_template_areas": null,
            "grid_template_columns": null,
            "grid_template_rows": null,
            "height": null,
            "justify_content": null,
            "justify_items": null,
            "left": null,
            "margin": null,
            "max_height": null,
            "max_width": null,
            "min_height": null,
            "min_width": null,
            "object_fit": null,
            "object_position": null,
            "order": null,
            "overflow": null,
            "overflow_x": null,
            "overflow_y": null,
            "padding": null,
            "right": null,
            "top": null,
            "visibility": null,
            "width": null
          }
        },
        "cf7f62d23d764201af3006375fb6011a": {
          "model_module": "@jupyter-widgets/controls",
          "model_name": "DescriptionStyleModel",
          "model_module_version": "1.5.0",
          "state": {
            "_model_module": "@jupyter-widgets/controls",
            "_model_module_version": "1.5.0",
            "_model_name": "DescriptionStyleModel",
            "_view_count": null,
            "_view_module": "@jupyter-widgets/base",
            "_view_module_version": "1.2.0",
            "_view_name": "StyleView",
            "description_width": ""
          }
        },
        "ff1d3fc21e434ff7aec440c3fb059a48": {
          "model_module": "@jupyter-widgets/controls",
          "model_name": "ButtonModel",
          "model_module_version": "1.5.0",
          "state": {
            "_dom_classes": [],
            "_model_module": "@jupyter-widgets/controls",
            "_model_module_version": "1.5.0",
            "_model_name": "ButtonModel",
            "_view_count": null,
            "_view_module": "@jupyter-widgets/controls",
            "_view_module_version": "1.5.0",
            "_view_name": "ButtonView",
            "button_style": "",
            "description": "Confirm Selection",
            "disabled": false,
            "icon": "",
            "layout": "IPY_MODEL_2b5bb19732cb4884a1998f087675017f",
            "style": "IPY_MODEL_10ff1a726329412082f40853059693ab",
            "tooltip": ""
          }
        },
        "2b5bb19732cb4884a1998f087675017f": {
          "model_module": "@jupyter-widgets/base",
          "model_name": "LayoutModel",
          "model_module_version": "1.2.0",
          "state": {
            "_model_module": "@jupyter-widgets/base",
            "_model_module_version": "1.2.0",
            "_model_name": "LayoutModel",
            "_view_count": null,
            "_view_module": "@jupyter-widgets/base",
            "_view_module_version": "1.2.0",
            "_view_name": "LayoutView",
            "align_content": null,
            "align_items": null,
            "align_self": null,
            "border": null,
            "bottom": null,
            "display": null,
            "flex": null,
            "flex_flow": null,
            "grid_area": null,
            "grid_auto_columns": null,
            "grid_auto_flow": null,
            "grid_auto_rows": null,
            "grid_column": null,
            "grid_gap": null,
            "grid_row": null,
            "grid_template_areas": null,
            "grid_template_columns": null,
            "grid_template_rows": null,
            "height": null,
            "justify_content": null,
            "justify_items": null,
            "left": null,
            "margin": null,
            "max_height": null,
            "max_width": null,
            "min_height": null,
            "min_width": null,
            "object_fit": null,
            "object_position": null,
            "order": null,
            "overflow": null,
            "overflow_x": null,
            "overflow_y": null,
            "padding": null,
            "right": null,
            "top": null,
            "visibility": null,
            "width": null
          }
        },
        "10ff1a726329412082f40853059693ab": {
          "model_module": "@jupyter-widgets/controls",
          "model_name": "ButtonStyleModel",
          "model_module_version": "1.5.0",
          "state": {
            "_model_module": "@jupyter-widgets/controls",
            "_model_module_version": "1.5.0",
            "_model_name": "ButtonStyleModel",
            "_view_count": null,
            "_view_module": "@jupyter-widgets/base",
            "_view_module_version": "1.2.0",
            "_view_name": "StyleView",
            "button_color": null,
            "font_weight": ""
          }
        }
      }
    }
  },
  "nbformat": 4,
  "nbformat_minor": 0
}