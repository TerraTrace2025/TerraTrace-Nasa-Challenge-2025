{
  "cells": [
    {
      "cell_type": "code",
      "source": [
        "import os\n",
        "import requests\n",
        "from datetime import datetime, timedelta\n",
        "import pandas as pd\n",
        "from meteostat import Point, Daily\n",
        "from google.colab import files"
      ],
      "metadata": {
        "id": "BrqH4HEPbUrj"
      },
      "execution_count": 57,
      "outputs": []
    },
    {
      "cell_type": "markdown",
      "source": [
        "***Input*** ***1: Crop Information: Names & Locations***"
      ],
      "metadata": {
        "id": "y7lIZ_l5dSBL"
      }
    },
    {
      "cell_type": "code",
      "source": [
        "df = pd.read_excel(\"harvest_locations.xlsx\", skiprows=1)\n",
        "\n",
        "header_names = df.iloc[1]\n",
        "state_location = df[\"Kt.\"]\n",
        "origin_location = df[\"Standort\"]\n",
        "crop_names = df.columns[7:].tolist()\n",
        "\n",
        "locations_dict = {}\n",
        "\n",
        "for crop in crop_names:\n",
        "    locations_dict[crop] = df.loc[df[crop] == \"x\", \"Standort\"].tolist()"
      ],
      "metadata": {
        "id": "aLZL5v0vcvpU"
      },
      "execution_count": 58,
      "outputs": []
    },
    {
      "cell_type": "markdown",
      "source": [
        "***Input 2: Climate Data***"
      ],
      "metadata": {
        "id": "Xv0GKbwXdhCP"
      }
    },
    {
      "cell_type": "markdown",
      "source": [
        "* Location"
      ],
      "metadata": {
        "id": "nKiXYMntlRMq"
      }
    },
    {
      "cell_type": "code",
      "source": [
        "latitude = 47.3769  # Zurich lat\n",
        "longitude = 8.5417  # Zurich lon"
      ],
      "metadata": {
        "id": "1pZ0Z7BokyHq"
      },
      "execution_count": 59,
      "outputs": []
    },
    {
      "cell_type": "markdown",
      "source": [
        "* Historical climate data"
      ],
      "metadata": {
        "id": "rWgPc3XHlYbK"
      }
    },
    {
      "cell_type": "code",
      "source": [
        "def get_historical_weather(start_date_str, end_date_str):\n",
        "    \"\"\"\n",
        "    Fetch historical daily weather (ERA5).\n",
        "    ERA5 typically has ~5 days delay, so yesterday is not available.\n",
        "    \"\"\"\n",
        "    ERA5_URL = \"https://archive-api.open-meteo.com/v1/era5\"\n",
        "    # Adjust end_date if too recent\n",
        "    today = date.today()\n",
        "    max_available = today - timedelta(days=5)\n",
        "    end_date = min(datetime.strptime(end_date_str, \"%Y-%m-%d\").date(), max_available)\n",
        "    start_date = datetime.strptime(start_date_str, \"%Y-%m-%d\").date()\n",
        "\n",
        "    if start_date > end_date:\n",
        "        raise ValueError(\"Start date is after available end date.\")\n",
        "\n",
        "    daily_vars = \",\".join([\n",
        "        \"temperature_2m_max\",\"temperature_2m_min\",\"precipitation_sum\",\n",
        "        \"windspeed_10m_max\",\"windgusts_10m_max\",\"shortwave_radiation_sum\"\n",
        "    ])\n",
        "\n",
        "    params = {\n",
        "        \"latitude\": latitude,\n",
        "        \"longitude\": longitude,\n",
        "        \"start_date\": start_date.isoformat(),\n",
        "        \"end_date\": end_date.isoformat(),\n",
        "        \"daily\": daily_vars,\n",
        "        \"timezone\": \"Europe/Zurich\"\n",
        "    }\n",
        "    resp = requests.get(ERA5_URL, params=params)\n",
        "    if resp.status_code == 200:\n",
        "        df = pd.DataFrame(resp.json()[\"daily\"])\n",
        "        # Simple weathercode\n",
        "        df[\"weathercode\"] = df.apply(lambda row: \"rain\" if row[\"precipitation_sum\"]>5 else\n",
        "                                     \"showers/windy\" if row[\"precipitation_sum\"]>0 and row[\"windspeed_10m_max\"]>10 else\n",
        "                                     \"sunny\" if row[\"shortwave_radiation_sum\"]>15000 else \"cloudy\", axis=1)\n",
        "        return df\n",
        "    else:\n",
        "        print(\"Historical request failed:\", resp.status_code)\n",
        "        return None"
      ],
      "metadata": {
        "id": "1YasLS8AlnI_"
      },
      "execution_count": 60,
      "outputs": []
    },
    {
      "cell_type": "markdown",
      "source": [
        "* Future weather forecast"
      ],
      "metadata": {
        "id": "RS1pRDmLltcI"
      }
    },
    {
      "cell_type": "code",
      "source": [
        "# -------------------------------\n",
        "# 2️⃣ Future weather forecast\n",
        "# -------------------------------\n",
        "def get_forecast_weather(n_days):\n",
        "    \"\"\"\n",
        "    Fetch forecast daily weather for the next n_days.\n",
        "    Converts official weathercode to simplified types like historical data.\n",
        "    \"\"\"\n",
        "    FORECAST_URL = \"https://api.open-meteo.com/v1/forecast\"\n",
        "    start_date = date.today()\n",
        "    end_date = start_date + timedelta(days=n_days-1)\n",
        "\n",
        "    params = {\n",
        "        \"latitude\": latitude,\n",
        "        \"longitude\": longitude,\n",
        "        \"daily\": \"temperature_2m_max,temperature_2m_min,precipitation_sum,windspeed_10m_max,weathercode\",\n",
        "        \"start_date\": start_date.isoformat(),\n",
        "        \"end_date\": end_date.isoformat(),\n",
        "        \"timezone\": \"Europe/Zurich\"\n",
        "    }\n",
        "    resp = requests.get(FORECAST_URL, params=params)\n",
        "    if resp.status_code == 200:\n",
        "        df = pd.DataFrame(resp.json()[\"daily\"])\n",
        "\n",
        "        # map official weathercode to simplified types\n",
        "        def code_to_simple(wc, precip, wind, rad=0):\n",
        "            if precip > 5:\n",
        "                return \"rain\"\n",
        "            elif precip > 0 and wind > 10:\n",
        "                return \"showers/windy\"\n",
        "            elif wc in [0, 1, 2]:  # clear/sunny codes\n",
        "                return \"sunny\"\n",
        "            else:\n",
        "                return \"cloudy\"\n",
        "\n",
        "        df[\"weathercode\"] = df.apply(lambda row: code_to_simple(row[\"weathercode\"], row[\"precipitation_sum\"], row[\"windspeed_10m_max\"]), axis=1)\n",
        "        return df\n",
        "    else:\n",
        "        print(\"Forecast request failed:\", resp.status_code)\n",
        "        return None\n"
      ],
      "metadata": {
        "id": "KJyfAVgdlzkP"
      },
      "execution_count": 61,
      "outputs": []
    },
    {
      "cell_type": "code",
      "source": [
        "if __name__ == \"__main__\":\n",
        "    print(\"=== Historical Weather ===\")\n",
        "    hist_df = get_historical_weather(\"2025-09-15\", \"2025-09-25\")\n",
        "    print(hist_df)\n",
        "\n",
        "    print(\"\\n=== Forecast Weather ===\")\n",
        "    fc_df = get_forecast_weather(7)  # next 5 days\n",
        "    print(fc_df)"
      ],
      "metadata": {
        "colab": {
          "base_uri": "https://localhost:8080/"
        },
        "id": "VFTB6OYZl1_X",
        "outputId": "ba47081b-845f-4d87-b981-a5ec15bde73c"
      },
      "execution_count": 62,
      "outputs": [
        {
          "output_type": "stream",
          "name": "stdout",
          "text": [
            "=== Historical Weather ===\n",
            "         time  temperature_2m_max  temperature_2m_min  precipitation_sum  \\\n",
            "0  2025-09-15                24.6                15.2                6.3   \n",
            "1  2025-09-16                19.0                13.2                1.3   \n",
            "2  2025-09-17                19.7                10.4                0.0   \n",
            "3  2025-09-18                24.3                11.7                0.0   \n",
            "4  2025-09-19                24.0                12.5                0.0   \n",
            "5  2025-09-20                27.1                13.6                0.0   \n",
            "6  2025-09-21                22.8                16.2               14.3   \n",
            "7  2025-09-22                16.6                12.3               22.1   \n",
            "8  2025-09-23                13.3                10.8                3.5   \n",
            "\n",
            "   windspeed_10m_max  windgusts_10m_max  shortwave_radiation_sum  \\\n",
            "0               22.4               50.4                    17.63   \n",
            "1               17.7               41.8                    14.46   \n",
            "2                6.3               18.4                    15.57   \n",
            "3                4.8               12.6                    17.86   \n",
            "4                4.7               16.6                    17.20   \n",
            "5                4.5               13.7                    16.41   \n",
            "6               10.2               24.5                    12.39   \n",
            "7               16.7               36.0                     3.48   \n",
            "8               17.6               41.0                     4.36   \n",
            "\n",
            "     weathercode  \n",
            "0           rain  \n",
            "1  showers/windy  \n",
            "2         cloudy  \n",
            "3         cloudy  \n",
            "4         cloudy  \n",
            "5         cloudy  \n",
            "6           rain  \n",
            "7           rain  \n",
            "8  showers/windy  \n",
            "\n",
            "=== Forecast Weather ===\n",
            "         time  temperature_2m_max  temperature_2m_min  precipitation_sum  \\\n",
            "0  2025-09-28                16.8                 8.7                0.0   \n",
            "1  2025-09-29                17.4                11.0                0.0   \n",
            "2  2025-09-30                16.4                 9.4                0.4   \n",
            "3  2025-10-01                14.5                 9.2                0.0   \n",
            "4  2025-10-02                13.0                 5.6                0.0   \n",
            "5  2025-10-03                11.8                 4.1                0.0   \n",
            "6  2025-10-04                12.9                -1.3                0.0   \n",
            "\n",
            "   windspeed_10m_max weathercode  \n",
            "0                8.5      cloudy  \n",
            "1                6.6      cloudy  \n",
            "2                7.5      cloudy  \n",
            "3               13.2      cloudy  \n",
            "4               19.0       sunny  \n",
            "5               14.7       sunny  \n",
            "6                4.8      cloudy  \n"
          ]
        }
      ]
    }
  ],
  "metadata": {
    "colab": {
      "provenance": []
    },
    "kernelspec": {
      "display_name": "Python 3",
      "name": "python3"
    }
  },
  "nbformat": 4,
  "nbformat_minor": 0
}